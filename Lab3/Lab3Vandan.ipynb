{
 "cells": [
  {
   "cell_type": "markdown",
   "id": "3e06c382-e978-427f-b116-d186426c0554",
   "metadata": {},
   "source": [
    "# Lab 3: Advanced Data Visualization with 3D Techniques\n",
    "**Name**: Vandan Amin  \n",
    "**Dataset**: HCV Blood Donor Dataset (UCI Machine Learning Repository)  \n",
    "**Objective**: In this lab, we explore the Hepatitis C Virus (HCV) dataset through five meaningful 3D visualizations. These visualizations provide spatial perspectives that make underlying patterns easier to identify and interpret."
   ]
  },
  {
   "cell_type": "markdown",
   "id": "dc5d5931-25e5-47c2-87d1-70f41063a6f8",
   "metadata": {},
   "source": [
    "## Dataset Overview\n",
    "\n",
    "The HCV dataset from the UCI Machine Learning Repository contains medical data related to liver function and diagnosis types. It includes values from common liver function tests (e.g., ALT, AST, ALB, GGT, etc.), demographic attributes (Age, Sex), and diagnostic categories ranging from healthy blood donors to those diagnosed with Hepatitis, Fibrosis, or Cirrhosis.\n",
    "\n",
    "We previously used this dataset in Lab 2 to create Seaborn visualizations. In this lab, we expand our analysis using 3D plots to examine multivariate relationships.\n",
    "\n",
    "Here is a preview of the cleaned dataset:\n"
   ]
  },
  {
   "cell_type": "code",
   "execution_count": 103,
   "id": "3057ea90-684e-4852-b39d-03621a8e8030",
   "metadata": {},
   "outputs": [
    {
     "data": {
      "text/html": [
       "<div>\n",
       "<style scoped>\n",
       "    .dataframe tbody tr th:only-of-type {\n",
       "        vertical-align: middle;\n",
       "    }\n",
       "\n",
       "    .dataframe tbody tr th {\n",
       "        vertical-align: top;\n",
       "    }\n",
       "\n",
       "    .dataframe thead th {\n",
       "        text-align: right;\n",
       "    }\n",
       "</style>\n",
       "<table border=\"1\" class=\"dataframe\">\n",
       "  <thead>\n",
       "    <tr style=\"text-align: right;\">\n",
       "      <th></th>\n",
       "      <th>Category</th>\n",
       "      <th>Age</th>\n",
       "      <th>Sex</th>\n",
       "      <th>ALB</th>\n",
       "      <th>ALP</th>\n",
       "      <th>ALT</th>\n",
       "      <th>AST</th>\n",
       "      <th>BIL</th>\n",
       "      <th>CHE</th>\n",
       "      <th>CHOL</th>\n",
       "      <th>CREA</th>\n",
       "      <th>GGT</th>\n",
       "      <th>PROT</th>\n",
       "    </tr>\n",
       "  </thead>\n",
       "  <tbody>\n",
       "    <tr>\n",
       "      <th>0</th>\n",
       "      <td>Blood Donor</td>\n",
       "      <td>32</td>\n",
       "      <td>m</td>\n",
       "      <td>38.5</td>\n",
       "      <td>52.5</td>\n",
       "      <td>7.7</td>\n",
       "      <td>22.1</td>\n",
       "      <td>7.5</td>\n",
       "      <td>6.93</td>\n",
       "      <td>3.23</td>\n",
       "      <td>106.0</td>\n",
       "      <td>12.1</td>\n",
       "      <td>69.0</td>\n",
       "    </tr>\n",
       "    <tr>\n",
       "      <th>1</th>\n",
       "      <td>Blood Donor</td>\n",
       "      <td>32</td>\n",
       "      <td>m</td>\n",
       "      <td>38.5</td>\n",
       "      <td>70.3</td>\n",
       "      <td>18.0</td>\n",
       "      <td>24.7</td>\n",
       "      <td>3.9</td>\n",
       "      <td>11.17</td>\n",
       "      <td>4.80</td>\n",
       "      <td>74.0</td>\n",
       "      <td>15.6</td>\n",
       "      <td>76.5</td>\n",
       "    </tr>\n",
       "    <tr>\n",
       "      <th>2</th>\n",
       "      <td>Blood Donor</td>\n",
       "      <td>32</td>\n",
       "      <td>m</td>\n",
       "      <td>46.9</td>\n",
       "      <td>74.7</td>\n",
       "      <td>36.2</td>\n",
       "      <td>52.6</td>\n",
       "      <td>6.1</td>\n",
       "      <td>8.84</td>\n",
       "      <td>5.20</td>\n",
       "      <td>86.0</td>\n",
       "      <td>33.2</td>\n",
       "      <td>79.3</td>\n",
       "    </tr>\n",
       "    <tr>\n",
       "      <th>3</th>\n",
       "      <td>Blood Donor</td>\n",
       "      <td>32</td>\n",
       "      <td>m</td>\n",
       "      <td>43.2</td>\n",
       "      <td>52.0</td>\n",
       "      <td>30.6</td>\n",
       "      <td>22.6</td>\n",
       "      <td>18.9</td>\n",
       "      <td>7.33</td>\n",
       "      <td>4.74</td>\n",
       "      <td>80.0</td>\n",
       "      <td>33.8</td>\n",
       "      <td>75.7</td>\n",
       "    </tr>\n",
       "    <tr>\n",
       "      <th>4</th>\n",
       "      <td>Blood Donor</td>\n",
       "      <td>32</td>\n",
       "      <td>m</td>\n",
       "      <td>39.2</td>\n",
       "      <td>74.1</td>\n",
       "      <td>32.6</td>\n",
       "      <td>24.8</td>\n",
       "      <td>9.6</td>\n",
       "      <td>9.15</td>\n",
       "      <td>4.32</td>\n",
       "      <td>76.0</td>\n",
       "      <td>29.9</td>\n",
       "      <td>68.7</td>\n",
       "    </tr>\n",
       "  </tbody>\n",
       "</table>\n",
       "</div>"
      ],
      "text/plain": [
       "      Category  Age Sex   ALB   ALP   ALT   AST   BIL    CHE  CHOL   CREA  \\\n",
       "0  Blood Donor   32   m  38.5  52.5   7.7  22.1   7.5   6.93  3.23  106.0   \n",
       "1  Blood Donor   32   m  38.5  70.3  18.0  24.7   3.9  11.17  4.80   74.0   \n",
       "2  Blood Donor   32   m  46.9  74.7  36.2  52.6   6.1   8.84  5.20   86.0   \n",
       "3  Blood Donor   32   m  43.2  52.0  30.6  22.6  18.9   7.33  4.74   80.0   \n",
       "4  Blood Donor   32   m  39.2  74.1  32.6  24.8   9.6   9.15  4.32   76.0   \n",
       "\n",
       "    GGT  PROT  \n",
       "0  12.1  69.0  \n",
       "1  15.6  76.5  \n",
       "2  33.2  79.3  \n",
       "3  33.8  75.7  \n",
       "4  29.9  68.7  "
      ]
     },
     "execution_count": 103,
     "metadata": {},
     "output_type": "execute_result"
    }
   ],
   "source": [
    "import pandas as pd\n",
    "\n",
    "df = pd.read_csv('hcvdat0.csv')\n",
    "df_clean = df.drop(columns=['Unnamed: 0'])\n",
    "\n",
    "diagnosis_map = {\n",
    "    '0=Blood Donor': 'Blood Donor',\n",
    "    '0s=suspect Blood Donor': 'Suspect Donor',\n",
    "    '1=Hepatitis': 'Hepatitis',\n",
    "    '2=Fibrosis': 'Fibrosis',\n",
    "    '3=Cirrhosis': 'Cirrhosis'\n",
    "}\n",
    "df_clean['Category'] = df_clean['Category'].map(diagnosis_map)\n",
    "df_clean = df_clean.dropna()\n",
    "df_clean.head()\n"
   ]
  },
  {
   "cell_type": "markdown",
   "id": "1ba2f1fb-90cd-4cdc-9d25-8b3d6540f6b9",
   "metadata": {},
   "source": [
    "## 1. 3D Scatter Plot: ALT, AST, and GGT by Diagnosis\n",
    "\n",
    "**Purpose**: This plot visualizes how three liver-related enzyme levels (ALT, AST, GGT) interact across diagnosis categories.  \n",
    "**Big Takeaway**: It shows that Blood Donors are tightly clustered with low enzyme values, while Cirrhosis and Hepatitis patients have more spread and higher readings, especially in GGT."
   ]
  },
  {
   "cell_type": "code",
   "execution_count": 106,
   "id": "dead263b-599d-465e-953b-73aa72c0c9ef",
   "metadata": {},
   "outputs": [
    {
     "data": {
      "image/png": "[encoded data removed]",
      "text/plain": [
       "<Figure size 1000x700 with 1 Axes>"
      ]
     },
     "metadata": {},
     "output_type": "display_data"
    }
   ],
   "source": [
    "import matplotlib.pyplot as plt\n",
    "from mpl_toolkits.mplot3d import Axes3D\n",
    "\n",
    "color_map = {\n",
    "    'Blood Donor': 'blue',\n",
    "    'Suspect Donor': 'orange',\n",
    "    'Hepatitis': 'green',\n",
    "    'Fibrosis': 'red',\n",
    "    'Cirrhosis': 'purple'\n",
    "}\n",
    "colors = df_clean['Category'].map(color_map)\n",
    "\n",
    "fig = plt.figure(figsize=(10, 7))\n",
    "ax = fig.add_subplot(111, projection='3d')\n",
    "\n",
    "sc = ax.scatter(df_clean['ALT'], df_clean['AST'], df_clean['GGT'],\n",
    "                c=colors, label=df_clean['Category'], alpha=0.8)\n",
    "\n",
    "ax.set_xlabel('ALT')\n",
    "ax.set_ylabel('AST')\n",
    "ax.set_zlabel('GGT')\n",
    "ax.set_title('3D Scatter Plot of ALT, AST, and GGT by Diagnosis Category')\n",
    "\n",
    "handles = [plt.Line2D([0], [0], marker='o', color='w', label=label,\n",
    "                      markerfacecolor=color, markersize=8)\n",
    "           for label, color in color_map.items()]\n",
    "ax.legend(handles=handles, title='Category')\n",
    "\n",
    "plt.tight_layout()\n",
    "plt.savefig('VandanAmin_3DScatter_ALT_AST_GGT.png')\n",
    "plt.show()\n"
   ]
  },
  {
   "cell_type": "markdown",
   "id": "ba06a1c0-1319-4683-928d-40c597dbba22",
   "metadata": {},
   "source": [
    "## 2. 3D Surface Plot: GGT as a Function of ALT and AST\n",
    "\n",
    "**Purpose**: This surface plot shows how ALT and AST levels interact to influence GGT levels. GGT is another enzyme commonly used in diagnosing liver conditions.  \n",
    "**Big Takeaway**: The surface highlights non-linear relationships — certain ALT/AST combinations lead to rapid increases in GGT, especially in cases of liver disease. This suggests a potential compounding effect of elevated enzyme levels on liver stress.\n"
   ]
  },
  {
   "cell_type": "code",
   "execution_count": 109,
   "id": "810f65ac-aa0f-458d-867d-cc888ffadc47",
   "metadata": {},
   "outputs": [
    {
     "data": {
      "image/png": "[encoded data removed]",
      "text/plain": [
       "<Figure size 1200x800 with 2 Axes>"
      ]
     },
     "metadata": {},
     "output_type": "display_data"
    }
   ],
   "source": [
    "import numpy as np\n",
    "from scipy.interpolate import griddata\n",
    "import matplotlib.pyplot as plt\n",
    "\n",
    "subset = df_clean[['ALT', 'AST', 'GGT']]\n",
    "x = subset['ALT'].values\n",
    "y = subset['AST'].values\n",
    "z = subset['GGT'].values\n",
    "\n",
    "xi = np.linspace(x.min(), x.max(), 100)\n",
    "yi = np.linspace(y.min(), y.max(), 100)\n",
    "xi, yi = np.meshgrid(xi, yi)\n",
    "zi = griddata((x, y), z, (xi, yi), method='linear')\n",
    "\n",
    "fig = plt.figure(figsize=(12, 8))\n",
    "ax = fig.add_subplot(111, projection='3d')\n",
    "surf = ax.plot_surface(xi, yi, zi, cmap='viridis', edgecolor='none', alpha=0.9)\n",
    "\n",
    "ax.set_xlabel('ALT')\n",
    "ax.set_ylabel('AST')\n",
    "ax.set_zlabel('GGT')\n",
    "ax.set_title('3D Surface Plot: GGT as Function of ALT and AST')\n",
    "\n",
    "fig.colorbar(surf, shrink=0.5, aspect=5)\n",
    "plt.tight_layout()\n",
    "plt.savefig('VandanAmin_Surface_ALT_AST_GGT.png')\n",
    "plt.show()\n"
   ]
  },
  {
   "cell_type": "markdown",
   "id": "5d82ffad-ab66-48a1-a949-a0f66457ba37",
   "metadata": {},
   "source": [
    "## 3. 3D Bar Plot: Patient Distribution by Age Group and Sex\n",
    "\n",
    "**Purpose**: This visualization shows the count of patients segmented by age group and biological sex.  \n",
    "**Big Takeaway**: The majority of patients fall within the 30–50 age range, with males being more frequent in almost every group. This helps highlight demographic imbalances in the dataset, potentially impacting diagnostic model fairness.\n"
   ]
  },
  {
   "cell_type": "code",
   "execution_count": 112,
   "id": "7051b33e-bbe2-4284-b705-c5fda12c9c41",
   "metadata": {},
   "outputs": [
    {
     "data": {
      "application/vnd.plotly.v1+json": {
       "config": {
        "plotlyServerURL": "https://plot.ly"
       },
       "data": [
        {
         "cmax": 118,
         "cmin": 0,
         "colorscale": [
          [
           0,
           "rgb(3, 5, 18)"
          ],
          [
           0.09090909090909091,
           "rgb(25, 25, 51)"
          ],
          [
           0.18181818181818182,
           "rgb(44, 42, 87)"
          ],
          [
           0.2727272727272727,
           "rgb(58, 60, 125)"
          ],
          [
           0.36363636363636365,
           "rgb(62, 83, 160)"
          ],
          [
           0.45454545454545453,
           "rgb(62, 109, 178)"
          ],
          [
           0.5454545454545454,
           "rgb(72, 134, 187)"
          ],
          [
           0.6363636363636364,
           "rgb(89, 159, 196)"
          ],
          [
           0.7272727272727273,
           "rgb(114, 184, 205)"
          ],
          [
           0.8181818181818182,
           "rgb(149, 207, 216)"
          ],
          [
           0.9090909090909091,
           "rgb(192, 229, 232)"
          ],
          [
           1,
           "rgb(234, 252, 253)"
          ]
         ],
         "hovertemplate": "Sex: m<br>Age Group: <30<br>Count: 4.0<extra></extra>",
         "i": [
          0,
          0,
          4,
          4,
          0,
          0,
          1,
          1,
          2,
          2,
          3,
          3
         ],
         "intensity": [
          0,
          0,
          0,
          0,
          4,
          4,
          4,
          4
         ],
         "intensitymode": "vertex",
         "j": [
          1,
          2,
          5,
          6,
          1,
          5,
          2,
          6,
          3,
          7,
          0,
          4
         ],
         "k": [
          2,
          3,
          6,
          7,
          5,
          4,
          6,
          5,
          7,
          6,
          4,
          7
         ],
         "name": "",
         "opacity": 0.95,
         "showscale": false,
         "type": "mesh3d",
         "x": [
          -0.4,
          0.4,
          0.4,
          -0.4,
          -0.4,
          0.4,
          0.4,
          -0.4
         ],
         "y": [
          -0.4,
          -0.4,
          0.4,
          0.4,
          -0.4,
          -0.4,
          0.4,
          0.4
         ],
         "z": [
          0,
          0,
          0,
          0,
          4,
          4,
          4,
          4
         ]
        },
        {
         "cmax": 118,
         "cmin": 0,
         "colorscale": [
          [
           0,
           "rgb(3, 5, 18)"
          ],
          [
           0.09090909090909091,
           "rgb(25, 25, 51)"
          ],
          [
           0.18181818181818182,
           "rgb(44, 42, 87)"
          ],
          [
           0.2727272727272727,
           "rgb(58, 60, 125)"
          ],
          [
           0.36363636363636365,
           "rgb(62, 83, 160)"
          ],
          [
           0.45454545454545453,
           "rgb(62, 109, 178)"
          ],
          [
           0.5454545454545454,
           "rgb(72, 134, 187)"
          ],
          [
           0.6363636363636364,
           "rgb(89, 159, 196)"
          ],
          [
           0.7272727272727273,
           "rgb(114, 184, 205)"
          ],
          [
           0.8181818181818182,
           "rgb(149, 207, 216)"
          ],
          [
           0.9090909090909091,
           "rgb(192, 229, 232)"
          ],
          [
           1,
           "rgb(234, 252, 253)"
          ]
         ],
         "hovertemplate": "Sex: f<br>Age Group: <30<br>Count: 0.0<extra></extra>",
         "i": [
          0,
          0,
          4,
          4,
          0,
          0,
          1,
          1,
          2,
          2,
          3,
          3
         ],
         "intensity": [
          0,
          0,
          0,
          0,
          0,
          0,
          0,
          0
         ],
         "intensitymode": "vertex",
         "j": [
          1,
          2,
          5,
          6,
          1,
          5,
          2,
          6,
          3,
          7,
          0,
          4
         ],
         "k": [
          2,
          3,
          6,
          7,
          5,
          4,
          6,
          5,
          7,
          6,
          4,
          7
         ],
         "name": "",
         "opacity": 0.95,
         "showscale": false,
         "type": "mesh3d",
         "x": [
          0.6,
          1.4,
          1.4,
          0.6,
          0.6,
          1.4,
          1.4,
          0.6
         ],
         "y": [
          -0.4,
          -0.4,
          0.4,
          0.4,
          -0.4,
          -0.4,
          0.4,
          0.4
         ],
         "z": [
          0,
          0,
          0,
          0,
          0,
          0,
          0,
          0
         ]
        },
        {
         "cmax": 118,
         "cmin": 0,
         "colorscale": [
          [
           0,
           "rgb(3, 5, 18)"
          ],
          [
           0.09090909090909091,
           "rgb(25, 25, 51)"
          ],
          [
           0.18181818181818182,
           "rgb(44, 42, 87)"
          ],
          [
           0.2727272727272727,
           "rgb(58, 60, 125)"
          ],
          [
           0.36363636363636365,
           "rgb(62, 83, 160)"
          ],
          [
           0.45454545454545453,
           "rgb(62, 109, 178)"
          ],
          [
           0.5454545454545454,
           "rgb(72, 134, 187)"
          ],
          [
           0.6363636363636364,
           "rgb(89, 159, 196)"
          ],
          [
           0.7272727272727273,
           "rgb(114, 184, 205)"
          ],
          [
           0.8181818181818182,
           "rgb(149, 207, 216)"
          ],
          [
           0.9090909090909091,
           "rgb(192, 229, 232)"
          ],
          [
           1,
           "rgb(234, 252, 253)"
          ]
         ],
         "hovertemplate": "Sex: m<br>Age Group: 30-40<br>Count: 108.0<extra></extra>",
         "i": [
          0,
          0,
          4,
          4,
          0,
          0,
          1,
          1,
          2,
          2,
          3,
          3
         ],
         "intensity": [
          0,
          0,
          0,
          0,
          108,
          108,
          108,
          108
         ],
         "intensitymode": "vertex",
         "j": [
          1,
          2,
          5,
          6,
          1,
          5,
          2,
          6,
          3,
          7,
          0,
          4
         ],
         "k": [
          2,
          3,
          6,
          7,
          5,
          4,
          6,
          5,
          7,
          6,
          4,
          7
         ],
         "name": "",
         "opacity": 0.95,
         "showscale": false,
         "type": "mesh3d",
         "x": [
          -0.4,
          0.4,
          0.4,
          -0.4,
          -0.4,
          0.4,
          0.4,
          -0.4
         ],
         "y": [
          0.6,
          0.6,
          1.4,
          1.4,
          0.6,
          0.6,
          1.4,
          1.4
         ],
         "z": [
          0,
          0,
          0,
          0,
          108,
          108,
          108,
          108
         ]
        },
        {
         "cmax": 118,
         "cmin": 0,
         "colorscale": [
          [
           0,
           "rgb(3, 5, 18)"
          ],
          [
           0.09090909090909091,
           "rgb(25, 25, 51)"
          ],
          [
           0.18181818181818182,
           "rgb(44, 42, 87)"
          ],
          [
           0.2727272727272727,
           "rgb(58, 60, 125)"
          ],
          [
           0.36363636363636365,
           "rgb(62, 83, 160)"
          ],
          [
           0.45454545454545453,
           "rgb(62, 109, 178)"
          ],
          [
           0.5454545454545454,
           "rgb(72, 134, 187)"
          ],
          [
           0.6363636363636364,
           "rgb(89, 159, 196)"
          ],
          [
           0.7272727272727273,
           "rgb(114, 184, 205)"
          ],
          [
           0.8181818181818182,
           "rgb(149, 207, 216)"
          ],
          [
           0.9090909090909091,
           "rgb(192, 229, 232)"
          ],
          [
           1,
           "rgb(234, 252, 253)"
          ]
         ],
         "hovertemplate": "Sex: f<br>Age Group: 30-40<br>Count: 55.0<extra></extra>",
         "i": [
          0,
          0,
          4,
          4,
          0,
          0,
          1,
          1,
          2,
          2,
          3,
          3
         ],
         "intensity": [
          0,
          0,
          0,
          0,
          55,
          55,
          55,
          55
         ],
         "intensitymode": "vertex",
         "j": [
          1,
          2,
          5,
          6,
          1,
          5,
          2,
          6,
          3,
          7,
          0,
          4
         ],
         "k": [
          2,
          3,
          6,
          7,
          5,
          4,
          6,
          5,
          7,
          6,
          4,
          7
         ],
         "name": "",
         "opacity": 0.95,
         "showscale": false,
         "type": "mesh3d",
         "x": [
          0.6,
          1.4,
          1.4,
          0.6,
          0.6,
          1.4,
          1.4,
          0.6
         ],
         "y": [
          0.6,
          0.6,
          1.4,
          1.4,
          0.6,
          0.6,
          1.4,
          1.4
         ],
         "z": [
          0,
          0,
          0,
          0,
          55,
          55,
          55,
          55
         ]
        },
        {
         "cmax": 118,
         "cmin": 0,
         "colorscale": [
          [
           0,
           "rgb(3, 5, 18)"
          ],
          [
           0.09090909090909091,
           "rgb(25, 25, 51)"
          ],
          [
           0.18181818181818182,
           "rgb(44, 42, 87)"
          ],
          [
           0.2727272727272727,
           "rgb(58, 60, 125)"
          ],
          [
           0.36363636363636365,
           "rgb(62, 83, 160)"
          ],
          [
           0.45454545454545453,
           "rgb(62, 109, 178)"
          ],
          [
           0.5454545454545454,
           "rgb(72, 134, 187)"
          ],
          [
           0.6363636363636364,
           "rgb(89, 159, 196)"
          ],
          [
           0.7272727272727273,
           "rgb(114, 184, 205)"
          ],
          [
           0.8181818181818182,
           "rgb(149, 207, 216)"
          ],
          [
           0.9090909090909091,
           "rgb(192, 229, 232)"
          ],
          [
           1,
           "rgb(234, 252, 253)"
          ]
         ],
         "hovertemplate": "Sex: m<br>Age Group: 40-50<br>Count: 118.0<extra></extra>",
         "i": [
          0,
          0,
          4,
          4,
          0,
          0,
          1,
          1,
          2,
          2,
          3,
          3
         ],
         "intensity": [
          0,
          0,
          0,
          0,
          118,
          118,
          118,
          118
         ],
         "intensitymode": "vertex",
         "j": [
          1,
          2,
          5,
          6,
          1,
          5,
          2,
          6,
          3,
          7,
          0,
          4
         ],
         "k": [
          2,
          3,
          6,
          7,
          5,
          4,
          6,
          5,
          7,
          6,
          4,
          7
         ],
         "name": "",
         "opacity": 0.95,
         "showscale": false,
         "type": "mesh3d",
         "x": [
          -0.4,
          0.4,
          0.4,
          -0.4,
          -0.4,
          0.4,
          0.4,
          -0.4
         ],
         "y": [
          1.6,
          1.6,
          2.4,
          2.4,
          1.6,
          1.6,
          2.4,
          2.4
         ],
         "z": [
          0,
          0,
          0,
          0,
          118,
          118,
          118,
          118
         ]
        },
        {
         "cmax": 118,
         "cmin": 0,
         "colorscale": [
          [
           0,
           "rgb(3, 5, 18)"
          ],
          [
           0.09090909090909091,
           "rgb(25, 25, 51)"
          ],
          [
           0.18181818181818182,
           "rgb(44, 42, 87)"
          ],
          [
           0.2727272727272727,
           "rgb(58, 60, 125)"
          ],
          [
           0.36363636363636365,
           "rgb(62, 83, 160)"
          ],
          [
           0.45454545454545453,
           "rgb(62, 109, 178)"
          ],
          [
           0.5454545454545454,
           "rgb(72, 134, 187)"
          ],
          [
           0.6363636363636364,
           "rgb(89, 159, 196)"
          ],
          [
           0.7272727272727273,
           "rgb(114, 184, 205)"
          ],
          [
           0.8181818181818182,
           "rgb(149, 207, 216)"
          ],
          [
           0.9090909090909091,
           "rgb(192, 229, 232)"
          ],
          [
           1,
           "rgb(234, 252, 253)"
          ]
         ],
         "hovertemplate": "Sex: f<br>Age Group: 40-50<br>Count: 81.0<extra></extra>",
         "i": [
          0,
          0,
          4,
          4,
          0,
          0,
          1,
          1,
          2,
          2,
          3,
          3
         ],
         "intensity": [
          0,
          0,
          0,
          0,
          81,
          81,
          81,
          81
         ],
         "intensitymode": "vertex",
         "j": [
          1,
          2,
          5,
          6,
          1,
          5,
          2,
          6,
          3,
          7,
          0,
          4
         ],
         "k": [
          2,
          3,
          6,
          7,
          5,
          4,
          6,
          5,
          7,
          6,
          4,
          7
         ],
         "name": "",
         "opacity": 0.95,
         "showscale": false,
         "type": "mesh3d",
         "x": [
          0.6,
          1.4,
          1.4,
          0.6,
          0.6,
          1.4,
          1.4,
          0.6
         ],
         "y": [
          1.6,
          1.6,
          2.4,
          2.4,
          1.6,
          1.6,
          2.4,
          2.4
         ],
         "z": [
          0,
          0,
          0,
          0,
          81,
          81,
          81,
          81
         ]
        },
        {
         "cmax": 118,
         "cmin": 0,
         "colorscale": [
          [
           0,
           "rgb(3, 5, 18)"
          ],
          [
           0.09090909090909091,
           "rgb(25, 25, 51)"
          ],
          [
           0.18181818181818182,
           "rgb(44, 42, 87)"
          ],
          [
           0.2727272727272727,
           "rgb(58, 60, 125)"
          ],
          [
           0.36363636363636365,
           "rgb(62, 83, 160)"
          ],
          [
           0.45454545454545453,
           "rgb(62, 109, 178)"
          ],
          [
           0.5454545454545454,
           "rgb(72, 134, 187)"
          ],
          [
           0.6363636363636364,
           "rgb(89, 159, 196)"
          ],
          [
           0.7272727272727273,
           "rgb(114, 184, 205)"
          ],
          [
           0.8181818181818182,
           "rgb(149, 207, 216)"
          ],
          [
           0.9090909090909091,
           "rgb(192, 229, 232)"
          ],
          [
           1,
           "rgb(234, 252, 253)"
          ]
         ],
         "hovertemplate": "Sex: m<br>Age Group: 50-60<br>Count: 91.0<extra></extra>",
         "i": [
          0,
          0,
          4,
          4,
          0,
          0,
          1,
          1,
          2,
          2,
          3,
          3
         ],
         "intensity": [
          0,
          0,
          0,
          0,
          91,
          91,
          91,
          91
         ],
         "intensitymode": "vertex",
         "j": [
          1,
          2,
          5,
          6,
          1,
          5,
          2,
          6,
          3,
          7,
          0,
          4
         ],
         "k": [
          2,
          3,
          6,
          7,
          5,
          4,
          6,
          5,
          7,
          6,
          4,
          7
         ],
         "name": "",
         "opacity": 0.95,
         "showscale": false,
         "type": "mesh3d",
         "x": [
          -0.4,
          0.4,
          0.4,
          -0.4,
          -0.4,
          0.4,
          0.4,
          -0.4
         ],
         "y": [
          2.6,
          2.6,
          3.4,
          3.4,
          2.6,
          2.6,
          3.4,
          3.4
         ],
         "z": [
          0,
          0,
          0,
          0,
          91,
          91,
          91,
          91
         ]
        },
        {
         "cmax": 118,
         "cmin": 0,
         "colorscale": [
          [
           0,
           "rgb(3, 5, 18)"
          ],
          [
           0.09090909090909091,
           "rgb(25, 25, 51)"
          ],
          [
           0.18181818181818182,
           "rgb(44, 42, 87)"
          ],
          [
           0.2727272727272727,
           "rgb(58, 60, 125)"
          ],
          [
           0.36363636363636365,
           "rgb(62, 83, 160)"
          ],
          [
           0.45454545454545453,
           "rgb(62, 109, 178)"
          ],
          [
           0.5454545454545454,
           "rgb(72, 134, 187)"
          ],
          [
           0.6363636363636364,
           "rgb(89, 159, 196)"
          ],
          [
           0.7272727272727273,
           "rgb(114, 184, 205)"
          ],
          [
           0.8181818181818182,
           "rgb(149, 207, 216)"
          ],
          [
           0.9090909090909091,
           "rgb(192, 229, 232)"
          ],
          [
           1,
           "rgb(234, 252, 253)"
          ]
         ],
         "hovertemplate": "Sex: f<br>Age Group: 50-60<br>Count: 72.0<extra></extra>",
         "i": [
          0,
          0,
          4,
          4,
          0,
          0,
          1,
          1,
          2,
          2,
          3,
          3
         ],
         "intensity": [
          0,
          0,
          0,
          0,
          72,
          72,
          72,
          72
         ],
         "intensitymode": "vertex",
         "j": [
          1,
          2,
          5,
          6,
          1,
          5,
          2,
          6,
          3,
          7,
          0,
          4
         ],
         "k": [
          2,
          3,
          6,
          7,
          5,
          4,
          6,
          5,
          7,
          6,
          4,
          7
         ],
         "name": "",
         "opacity": 0.95,
         "showscale": false,
         "type": "mesh3d",
         "x": [
          0.6,
          1.4,
          1.4,
          0.6,
          0.6,
          1.4,
          1.4,
          0.6
         ],
         "y": [
          2.6,
          2.6,
          3.4,
          3.4,
          2.6,
          2.6,
          3.4,
          3.4
         ],
         "z": [
          0,
          0,
          0,
          0,
          72,
          72,
          72,
          72
         ]
        },
        {
         "cmax": 118,
         "cmin": 0,
         "colorscale": [
          [
           0,
           "rgb(3, 5, 18)"
          ],
          [
           0.09090909090909091,
           "rgb(25, 25, 51)"
          ],
          [
           0.18181818181818182,
           "rgb(44, 42, 87)"
          ],
          [
           0.2727272727272727,
           "rgb(58, 60, 125)"
          ],
          [
           0.36363636363636365,
           "rgb(62, 83, 160)"
          ],
          [
           0.45454545454545453,
           "rgb(62, 109, 178)"
          ],
          [
           0.5454545454545454,
           "rgb(72, 134, 187)"
          ],
          [
           0.6363636363636364,
           "rgb(89, 159, 196)"
          ],
          [
           0.7272727272727273,
           "rgb(114, 184, 205)"
          ],
          [
           0.8181818181818182,
           "rgb(149, 207, 216)"
          ],
          [
           0.9090909090909091,
           "rgb(192, 229, 232)"
          ],
          [
           1,
           "rgb(234, 252, 253)"
          ]
         ],
         "hovertemplate": "Sex: m<br>Age Group: 60+<br>Count: 42.0<extra></extra>",
         "i": [
          0,
          0,
          4,
          4,
          0,
          0,
          1,
          1,
          2,
          2,
          3,
          3
         ],
         "intensity": [
          0,
          0,
          0,
          0,
          42,
          42,
          42,
          42
         ],
         "intensitymode": "vertex",
         "j": [
          1,
          2,
          5,
          6,
          1,
          5,
          2,
          6,
          3,
          7,
          0,
          4
         ],
         "k": [
          2,
          3,
          6,
          7,
          5,
          4,
          6,
          5,
          7,
          6,
          4,
          7
         ],
         "name": "",
         "opacity": 0.95,
         "showscale": false,
         "type": "mesh3d",
         "x": [
          -0.4,
          0.4,
          0.4,
          -0.4,
          -0.4,
          0.4,
          0.4,
          -0.4
         ],
         "y": [
          3.6,
          3.6,
          4.4,
          4.4,
          3.6,
          3.6,
          4.4,
          4.4
         ],
         "z": [
          0,
          0,
          0,
          0,
          42,
          42,
          42,
          42
         ]
        },
        {
         "cmax": 118,
         "cmin": 0,
         "colorscale": [
          [
           0,
           "rgb(3, 5, 18)"
          ],
          [
           0.09090909090909091,
           "rgb(25, 25, 51)"
          ],
          [
           0.18181818181818182,
           "rgb(44, 42, 87)"
          ],
          [
           0.2727272727272727,
           "rgb(58, 60, 125)"
          ],
          [
           0.36363636363636365,
           "rgb(62, 83, 160)"
          ],
          [
           0.45454545454545453,
           "rgb(62, 109, 178)"
          ],
          [
           0.5454545454545454,
           "rgb(72, 134, 187)"
          ],
          [
           0.6363636363636364,
           "rgb(89, 159, 196)"
          ],
          [
           0.7272727272727273,
           "rgb(114, 184, 205)"
          ],
          [
           0.8181818181818182,
           "rgb(149, 207, 216)"
          ],
          [
           0.9090909090909091,
           "rgb(192, 229, 232)"
          ],
          [
           1,
           "rgb(234, 252, 253)"
          ]
         ],
         "hovertemplate": "Sex: f<br>Age Group: 60+<br>Count: 18.0<extra></extra>",
         "i": [
          0,
          0,
          4,
          4,
          0,
          0,
          1,
          1,
          2,
          2,
          3,
          3
         ],
         "intensity": [
          0,
          0,
          0,
          0,
          18,
          18,
          18,
          18
         ],
         "intensitymode": "vertex",
         "j": [
          1,
          2,
          5,
          6,
          1,
          5,
          2,
          6,
          3,
          7,
          0,
          4
         ],
         "k": [
          2,
          3,
          6,
          7,
          5,
          4,
          6,
          5,
          7,
          6,
          4,
          7
         ],
         "name": "",
         "opacity": 0.95,
         "showscale": false,
         "type": "mesh3d",
         "x": [
          0.6,
          1.4,
          1.4,
          0.6,
          0.6,
          1.4,
          1.4,
          0.6
         ],
         "y": [
          3.6,
          3.6,
          4.4,
          4.4,
          3.6,
          3.6,
          4.4,
          4.4
         ],
         "z": [
          0,
          0,
          0,
          0,
          18,
          18,
          18,
          18
         ]
        }
       ],
       "layout": {
        "height": 750,
        "margin": {
         "b": 0,
         "l": 0,
         "r": 0,
         "t": 50
        },
        "scene": {
         "aspectmode": "auto",
         "aspectratio": {
          "x": 1,
          "y": 1,
          "z": 1
         },
         "camera": {
          "center": {
           "x": 0,
           "y": 0,
           "z": 0
          },
          "eye": {
           "x": 2.1027382487110513,
           "y": 2.10273824871105,
           "z": 2.102738248711051
          },
          "projection": {
           "type": "perspective"
          },
          "up": {
           "x": 0,
           "y": 0,
           "z": 1
          }
         },
         "xaxis": {
          "ticktext": [
           "m",
           "f"
          ],
          "tickvals": [
           0,
           1
          ],
          "title": {
           "text": "Sex"
          },
          "type": "linear"
         },
         "yaxis": {
          "ticktext": [
           "<30",
           "30-40",
           "40-50",
           "50-60",
           "60+"
          ],
          "tickvals": [
           0,
           1,
           2,
           3,
           4
          ],
          "title": {
           "text": "Age Group"
          },
          "type": "linear"
         },
         "zaxis": {
          "title": {
           "text": "Patient Count"
          },
          "type": "linear"
         }
        },
        "template": {
         "data": {
          "bar": [
           {
            "error_x": {
             "color": "#2a3f5f"
            },
            "error_y": {
             "color": "#2a3f5f"
            },
            "marker": {
             "line": {
              "color": "#E5ECF6",
              "width": 0.5
             },
             "pattern": {
              "fillmode": "overlay",
              "size": 10,
              "solidity": 0.2
             }
            },
            "type": "bar"
           }
          ],
          "barpolar": [
           {
            "marker": {
             "line": {
              "color": "#E5ECF6",
              "width": 0.5
             },
             "pattern": {
              "fillmode": "overlay",
              "size": 10,
              "solidity": 0.2
             }
            },
            "type": "barpolar"
           }
          ],
          "carpet": [
           {
            "aaxis": {
             "endlinecolor": "#2a3f5f",
             "gridcolor": "white",
             "linecolor": "white",
             "minorgridcolor": "white",
             "startlinecolor": "#2a3f5f"
            },
            "baxis": {
             "endlinecolor": "#2a3f5f",
             "gridcolor": "white",
             "linecolor": "white",
             "minorgridcolor": "white",
             "startlinecolor": "#2a3f5f"
            },
            "type": "carpet"
           }
          ],
          "choropleth": [
           {
            "colorbar": {
             "outlinewidth": 0,
             "ticks": ""
            },
            "type": "choropleth"
           }
          ],
          "contour": [
           {
            "colorbar": {
             "outlinewidth": 0,
             "ticks": ""
            },
            "colorscale": [
             [
              0,
              "#0d0887"
             ],
             [
              0.1111111111111111,
              "#46039f"
             ],
             [
              0.2222222222222222,
              "#7201a8"
             ],
             [
              0.3333333333333333,
              "#9c179e"
             ],
             [
              0.4444444444444444,
              "#bd3786"
             ],
             [
              0.5555555555555556,
              "#d8576b"
             ],
             [
              0.6666666666666666,
              "#ed7953"
             ],
             [
              0.7777777777777778,
              "#fb9f3a"
             ],
             [
              0.8888888888888888,
              "#fdca26"
             ],
             [
              1,
              "#f0f921"
             ]
            ],
            "type": "contour"
           }
          ],
          "contourcarpet": [
           {
            "colorbar": {
             "outlinewidth": 0,
             "ticks": ""
            },
            "type": "contourcarpet"
           }
          ],
          "heatmap": [
           {
            "colorbar": {
             "outlinewidth": 0,
             "ticks": ""
            },
            "colorscale": [
             [
              0,
              "#0d0887"
             ],
             [
              0.1111111111111111,
              "#46039f"
             ],
             [
              0.2222222222222222,
              "#7201a8"
             ],
             [
              0.3333333333333333,
              "#9c179e"
             ],
             [
              0.4444444444444444,
              "#bd3786"
             ],
             [
              0.5555555555555556,
              "#d8576b"
             ],
             [
              0.6666666666666666,
              "#ed7953"
             ],
             [
              0.7777777777777778,
              "#fb9f3a"
             ],
             [
              0.8888888888888888,
              "#fdca26"
             ],
             [
              1,
              "#f0f921"
             ]
            ],
            "type": "heatmap"
           }
          ],
          "heatmapgl": [
           {
            "colorbar": {
             "outlinewidth": 0,
             "ticks": ""
            },
            "colorscale": [
             [
              0,
              "#0d0887"
             ],
             [
              0.1111111111111111,
              "#46039f"
             ],
             [
              0.2222222222222222,
              "#7201a8"
             ],
             [
              0.3333333333333333,
              "#9c179e"
             ],
             [
              0.4444444444444444,
              "#bd3786"
             ],
             [
              0.5555555555555556,
              "#d8576b"
             ],
             [
              0.6666666666666666,
              "#ed7953"
             ],
             [
              0.7777777777777778,
              "#fb9f3a"
             ],
             [
              0.8888888888888888,
              "#fdca26"
             ],
             [
              1,
              "#f0f921"
             ]
            ],
            "type": "heatmapgl"
           }
          ],
          "histogram": [
           {
            "marker": {
             "pattern": {
              "fillmode": "overlay",
              "size": 10,
              "solidity": 0.2
             }
            },
            "type": "histogram"
           }
          ],
          "histogram2d": [
           {
            "colorbar": {
             "outlinewidth": 0,
             "ticks": ""
            },
            "colorscale": [
             [
              0,
              "#0d0887"
             ],
             [
              0.1111111111111111,
              "#46039f"
             ],
             [
              0.2222222222222222,
              "#7201a8"
             ],
             [
              0.3333333333333333,
              "#9c179e"
             ],
             [
              0.4444444444444444,
              "#bd3786"
             ],
             [
              0.5555555555555556,
              "#d8576b"
             ],
             [
              0.6666666666666666,
              "#ed7953"
             ],
             [
              0.7777777777777778,
              "#fb9f3a"
             ],
             [
              0.8888888888888888,
              "#fdca26"
             ],
             [
              1,
              "#f0f921"
             ]
            ],
            "type": "histogram2d"
           }
          ],
          "histogram2dcontour": [
           {
            "colorbar": {
             "outlinewidth": 0,
             "ticks": ""
            },
            "colorscale": [
             [
              0,
              "#0d0887"
             ],
             [
              0.1111111111111111,
              "#46039f"
             ],
             [
              0.2222222222222222,
              "#7201a8"
             ],
             [
              0.3333333333333333,
              "#9c179e"
             ],
             [
              0.4444444444444444,
              "#bd3786"
             ],
             [
              0.5555555555555556,
              "#d8576b"
             ],
             [
              0.6666666666666666,
              "#ed7953"
             ],
             [
              0.7777777777777778,
              "#fb9f3a"
             ],
             [
              0.8888888888888888,
              "#fdca26"
             ],
             [
              1,
              "#f0f921"
             ]
            ],
            "type": "histogram2dcontour"
           }
          ],
          "mesh3d": [
           {
            "colorbar": {
             "outlinewidth": 0,
             "ticks": ""
            },
            "type": "mesh3d"
           }
          ],
          "parcoords": [
           {
            "line": {
             "colorbar": {
              "outlinewidth": 0,
              "ticks": ""
             }
            },
            "type": "parcoords"
           }
          ],
          "pie": [
           {
            "automargin": true,
            "type": "pie"
           }
          ],
          "scatter": [
           {
            "fillpattern": {
             "fillmode": "overlay",
             "size": 10,
             "solidity": 0.2
            },
            "type": "scatter"
           }
          ],
          "scatter3d": [
           {
            "line": {
             "colorbar": {
              "outlinewidth": 0,
              "ticks": ""
             }
            },
            "marker": {
             "colorbar": {
              "outlinewidth": 0,
              "ticks": ""
             }
            },
            "type": "scatter3d"
           }
          ],
          "scattercarpet": [
           {
            "marker": {
             "colorbar": {
              "outlinewidth": 0,
              "ticks": ""
             }
            },
            "type": "scattercarpet"
           }
          ],
          "scattergeo": [
           {
            "marker": {
             "colorbar": {
              "outlinewidth": 0,
              "ticks": ""
             }
            },
            "type": "scattergeo"
           }
          ],
          "scattergl": [
           {
            "marker": {
             "colorbar": {
              "outlinewidth": 0,
              "ticks": ""
             }
            },
            "type": "scattergl"
           }
          ],
          "scattermapbox": [
           {
            "marker": {
             "colorbar": {
              "outlinewidth": 0,
              "ticks": ""
             }
            },
            "type": "scattermapbox"
           }
          ],
          "scatterpolar": [
           {
            "marker": {
             "colorbar": {
              "outlinewidth": 0,
              "ticks": ""
             }
            },
            "type": "scatterpolar"
           }
          ],
          "scatterpolargl": [
           {
            "marker": {
             "colorbar": {
              "outlinewidth": 0,
              "ticks": ""
             }
            },
            "type": "scatterpolargl"
           }
          ],
          "scatterternary": [
           {
            "marker": {
             "colorbar": {
              "outlinewidth": 0,
              "ticks": ""
             }
            },
            "type": "scatterternary"
           }
          ],
          "surface": [
           {
            "colorbar": {
             "outlinewidth": 0,
             "ticks": ""
            },
            "colorscale": [
             [
              0,
              "#0d0887"
             ],
             [
              0.1111111111111111,
              "#46039f"
             ],
             [
              0.2222222222222222,
              "#7201a8"
             ],
             [
              0.3333333333333333,
              "#9c179e"
             ],
             [
              0.4444444444444444,
              "#bd3786"
             ],
             [
              0.5555555555555556,
              "#d8576b"
             ],
             [
              0.6666666666666666,
              "#ed7953"
             ],
             [
              0.7777777777777778,
              "#fb9f3a"
             ],
             [
              0.8888888888888888,
              "#fdca26"
             ],
             [
              1,
              "#f0f921"
             ]
            ],
            "type": "surface"
           }
          ],
          "table": [
           {
            "cells": {
             "fill": {
              "color": "#EBF0F8"
             },
             "line": {
              "color": "white"
             }
            },
            "header": {
             "fill": {
              "color": "#C8D4E3"
             },
             "line": {
              "color": "white"
             }
            },
            "type": "table"
           }
          ]
         },
         "layout": {
          "annotationdefaults": {
           "arrowcolor": "#2a3f5f",
           "arrowhead": 0,
           "arrowwidth": 1
          },
          "autotypenumbers": "strict",
          "coloraxis": {
           "colorbar": {
            "outlinewidth": 0,
            "ticks": ""
           }
          },
          "colorscale": {
           "diverging": [
            [
             0,
             "#8e0152"
            ],
            [
             0.1,
             "#c51b7d"
            ],
            [
             0.2,
             "#de77ae"
            ],
            [
             0.3,
             "#f1b6da"
            ],
            [
             0.4,
             "#fde0ef"
            ],
            [
             0.5,
             "#f7f7f7"
            ],
            [
             0.6,
             "#e6f5d0"
            ],
            [
             0.7,
             "#b8e186"
            ],
            [
             0.8,
             "#7fbc41"
            ],
            [
             0.9,
             "#4d9221"
            ],
            [
             1,
             "#276419"
            ]
           ],
           "sequential": [
            [
             0,
             "#0d0887"
            ],
            [
             0.1111111111111111,
             "#46039f"
            ],
            [
             0.2222222222222222,
             "#7201a8"
            ],
            [
             0.3333333333333333,
             "#9c179e"
            ],
            [
             0.4444444444444444,
             "#bd3786"
            ],
            [
             0.5555555555555556,
             "#d8576b"
            ],
            [
             0.6666666666666666,
             "#ed7953"
            ],
            [
             0.7777777777777778,
             "#fb9f3a"
            ],
            [
             0.8888888888888888,
             "#fdca26"
            ],
            [
             1,
             "#f0f921"
            ]
           ],
           "sequentialminus": [
            [
             0,
             "#0d0887"
            ],
            [
             0.1111111111111111,
             "#46039f"
            ],
            [
             0.2222222222222222,
             "#7201a8"
            ],
            [
             0.3333333333333333,
             "#9c179e"
            ],
            [
             0.4444444444444444,
             "#bd3786"
            ],
            [
             0.5555555555555556,
             "#d8576b"
            ],
            [
             0.6666666666666666,
             "#ed7953"
            ],
            [
             0.7777777777777778,
             "#fb9f3a"
            ],
            [
             0.8888888888888888,
             "#fdca26"
            ],
            [
             1,
             "#f0f921"
            ]
           ]
          },
          "colorway": [
           "#636efa",
           "#EF553B",
           "#00cc96",
           "#ab63fa",
           "#FFA15A",
           "#19d3f3",
           "#FF6692",
           "#B6E880",
           "#FF97FF",
           "#FECB52"
          ],
          "font": {
           "color": "#2a3f5f"
          },
          "geo": {
           "bgcolor": "white",
           "lakecolor": "white",
           "landcolor": "#E5ECF6",
           "showlakes": true,
           "showland": true,
           "subunitcolor": "white"
          },
          "hoverlabel": {
           "align": "left"
          },
          "hovermode": "closest",
          "mapbox": {
           "style": "light"
          },
          "paper_bgcolor": "white",
          "plot_bgcolor": "#E5ECF6",
          "polar": {
           "angularaxis": {
            "gridcolor": "white",
            "linecolor": "white",
            "ticks": ""
           },
           "bgcolor": "#E5ECF6",
           "radialaxis": {
            "gridcolor": "white",
            "linecolor": "white",
            "ticks": ""
           }
          },
          "scene": {
           "xaxis": {
            "backgroundcolor": "#E5ECF6",
            "gridcolor": "white",
            "gridwidth": 2,
            "linecolor": "white",
            "showbackground": true,
            "ticks": "",
            "zerolinecolor": "white"
           },
           "yaxis": {
            "backgroundcolor": "#E5ECF6",
            "gridcolor": "white",
            "gridwidth": 2,
            "linecolor": "white",
            "showbackground": true,
            "ticks": "",
            "zerolinecolor": "white"
           },
           "zaxis": {
            "backgroundcolor": "#E5ECF6",
            "gridcolor": "white",
            "gridwidth": 2,
            "linecolor": "white",
            "showbackground": true,
            "ticks": "",
            "zerolinecolor": "white"
           }
          },
          "shapedefaults": {
           "line": {
            "color": "#2a3f5f"
           }
          },
          "ternary": {
           "aaxis": {
            "gridcolor": "white",
            "linecolor": "white",
            "ticks": ""
           },
           "baxis": {
            "gridcolor": "white",
            "linecolor": "white",
            "ticks": ""
           },
           "bgcolor": "#E5ECF6",
           "caxis": {
            "gridcolor": "white",
            "linecolor": "white",
            "ticks": ""
           }
          },
          "title": {
           "x": 0.05
          },
          "xaxis": {
           "automargin": true,
           "gridcolor": "white",
           "linecolor": "white",
           "ticks": "",
           "title": {
            "standoff": 15
           },
           "zerolinecolor": "white",
           "zerolinewidth": 2
          },
          "yaxis": {
           "automargin": true,
           "gridcolor": "white",
           "linecolor": "white",
           "ticks": "",
           "title": {
            "standoff": 15
           },
           "zerolinecolor": "white",
           "zerolinewidth": 2
          }
         }
        },
        "title": {
         "text": "3D Bar Plot: Patient Distribution by Age Group and Sex - Vandan Amin"
        },
        "width": 800
       }
      },
      "text/html": [
       "<div>                            <div id=\"84c70708-04a9-4c50-b4ed-2deaa18bd854\" class=\"plotly-graph-div\" style=\"height:750px; width:800px;\"></div>            <script type=\"text/javascript\">                require([\"plotly\"], function(Plotly) {                    window.PLOTLYENV=window.PLOTLYENV || {};                                    if (document.getElementById(\"84c70708-04a9-4c50-b4ed-2deaa18bd854\")) {                    Plotly.newPlot(                        \"84c70708-04a9-4c50-b4ed-2deaa18bd854\",                        [{\"cmax\":118.0,\"cmin\":0.0,\"colorscale\":[[0.0,\"rgb(3, 5, 18)\"],[0.09090909090909091,\"rgb(25, 25, 51)\"],[0.18181818181818182,\"rgb(44, 42, 87)\"],[0.2727272727272727,\"rgb(58, 60, 125)\"],[0.36363636363636365,\"rgb(62, 83, 160)\"],[0.45454545454545453,\"rgb(62, 109, 178)\"],[0.5454545454545454,\"rgb(72, 134, 187)\"],[0.6363636363636364,\"rgb(89, 159, 196)\"],[0.7272727272727273,\"rgb(114, 184, 205)\"],[0.8181818181818182,\"rgb(149, 207, 216)\"],[0.9090909090909091,\"rgb(192, 229, 232)\"],[1.0,\"rgb(234, 252, 253)\"]],\"hovertemplate\":\"Sex: m\\u003cbr\\u003eAge Group: \\u003c30\\u003cbr\\u003eCount: 4.0\\u003cextra\\u003e\\u003c\\u002fextra\\u003e\",\"i\":[0,0,4,4,0,0,1,1,2,2,3,3],\"intensity\":[0,0,0,0,4.0,4.0,4.0,4.0],\"intensitymode\":\"vertex\",\"j\":[1,2,5,6,1,5,2,6,3,7,0,4],\"k\":[2,3,6,7,5,4,6,5,7,6,4,7],\"name\":\"\",\"opacity\":0.95,\"showscale\":false,\"x\":[-0.4,0.4,0.4,-0.4,-0.4,0.4,0.4,-0.4],\"y\":[-0.4,-0.4,0.4,0.4,-0.4,-0.4,0.4,0.4],\"z\":[0.0,0.0,0.0,0.0,4.0,4.0,4.0,4.0],\"type\":\"mesh3d\"},{\"cmax\":118.0,\"cmin\":0.0,\"colorscale\":[[0.0,\"rgb(3, 5, 18)\"],[0.09090909090909091,\"rgb(25, 25, 51)\"],[0.18181818181818182,\"rgb(44, 42, 87)\"],[0.2727272727272727,\"rgb(58, 60, 125)\"],[0.36363636363636365,\"rgb(62, 83, 160)\"],[0.45454545454545453,\"rgb(62, 109, 178)\"],[0.5454545454545454,\"rgb(72, 134, 187)\"],[0.6363636363636364,\"rgb(89, 159, 196)\"],[0.7272727272727273,\"rgb(114, 184, 205)\"],[0.8181818181818182,\"rgb(149, 207, 216)\"],[0.9090909090909091,\"rgb(192, 229, 232)\"],[1.0,\"rgb(234, 252, 253)\"]],\"hovertemplate\":\"Sex: f\\u003cbr\\u003eAge Group: \\u003c30\\u003cbr\\u003eCount: 0.0\\u003cextra\\u003e\\u003c\\u002fextra\\u003e\",\"i\":[0,0,4,4,0,0,1,1,2,2,3,3],\"intensity\":[0,0,0,0,0.0,0.0,0.0,0.0],\"intensitymode\":\"vertex\",\"j\":[1,2,5,6,1,5,2,6,3,7,0,4],\"k\":[2,3,6,7,5,4,6,5,7,6,4,7],\"name\":\"\",\"opacity\":0.95,\"showscale\":false,\"x\":[0.6,1.4,1.4,0.6,0.6,1.4,1.4,0.6],\"y\":[-0.4,-0.4,0.4,0.4,-0.4,-0.4,0.4,0.4],\"z\":[0.0,0.0,0.0,0.0,0.0,0.0,0.0,0.0],\"type\":\"mesh3d\"},{\"cmax\":118.0,\"cmin\":0.0,\"colorscale\":[[0.0,\"rgb(3, 5, 18)\"],[0.09090909090909091,\"rgb(25, 25, 51)\"],[0.18181818181818182,\"rgb(44, 42, 87)\"],[0.2727272727272727,\"rgb(58, 60, 125)\"],[0.36363636363636365,\"rgb(62, 83, 160)\"],[0.45454545454545453,\"rgb(62, 109, 178)\"],[0.5454545454545454,\"rgb(72, 134, 187)\"],[0.6363636363636364,\"rgb(89, 159, 196)\"],[0.7272727272727273,\"rgb(114, 184, 205)\"],[0.8181818181818182,\"rgb(149, 207, 216)\"],[0.9090909090909091,\"rgb(192, 229, 232)\"],[1.0,\"rgb(234, 252, 253)\"]],\"hovertemplate\":\"Sex: m\\u003cbr\\u003eAge Group: 30-40\\u003cbr\\u003eCount: 108.0\\u003cextra\\u003e\\u003c\\u002fextra\\u003e\",\"i\":[0,0,4,4,0,0,1,1,2,2,3,3],\"intensity\":[0,0,0,0,108.0,108.0,108.0,108.0],\"intensitymode\":\"vertex\",\"j\":[1,2,5,6,1,5,2,6,3,7,0,4],\"k\":[2,3,6,7,5,4,6,5,7,6,4,7],\"name\":\"\",\"opacity\":0.95,\"showscale\":false,\"x\":[-0.4,0.4,0.4,-0.4,-0.4,0.4,0.4,-0.4],\"y\":[0.6,0.6,1.4,1.4,0.6,0.6,1.4,1.4],\"z\":[0.0,0.0,0.0,0.0,108.0,108.0,108.0,108.0],\"type\":\"mesh3d\"},{\"cmax\":118.0,\"cmin\":0.0,\"colorscale\":[[0.0,\"rgb(3, 5, 18)\"],[0.09090909090909091,\"rgb(25, 25, 51)\"],[0.18181818181818182,\"rgb(44, 42, 87)\"],[0.2727272727272727,\"rgb(58, 60, 125)\"],[0.36363636363636365,\"rgb(62, 83, 160)\"],[0.45454545454545453,\"rgb(62, 109, 178)\"],[0.5454545454545454,\"rgb(72, 134, 187)\"],[0.6363636363636364,\"rgb(89, 159, 196)\"],[0.7272727272727273,\"rgb(114, 184, 205)\"],[0.8181818181818182,\"rgb(149, 207, 216)\"],[0.9090909090909091,\"rgb(192, 229, 232)\"],[1.0,\"rgb(234, 252, 253)\"]],\"hovertemplate\":\"Sex: f\\u003cbr\\u003eAge Group: 30-40\\u003cbr\\u003eCount: 55.0\\u003cextra\\u003e\\u003c\\u002fextra\\u003e\",\"i\":[0,0,4,4,0,0,1,1,2,2,3,3],\"intensity\":[0,0,0,0,55.0,55.0,55.0,55.0],\"intensitymode\":\"vertex\",\"j\":[1,2,5,6,1,5,2,6,3,7,0,4],\"k\":[2,3,6,7,5,4,6,5,7,6,4,7],\"name\":\"\",\"opacity\":0.95,\"showscale\":false,\"x\":[0.6,1.4,1.4,0.6,0.6,1.4,1.4,0.6],\"y\":[0.6,0.6,1.4,1.4,0.6,0.6,1.4,1.4],\"z\":[0.0,0.0,0.0,0.0,55.0,55.0,55.0,55.0],\"type\":\"mesh3d\"},{\"cmax\":118.0,\"cmin\":0.0,\"colorscale\":[[0.0,\"rgb(3, 5, 18)\"],[0.09090909090909091,\"rgb(25, 25, 51)\"],[0.18181818181818182,\"rgb(44, 42, 87)\"],[0.2727272727272727,\"rgb(58, 60, 125)\"],[0.36363636363636365,\"rgb(62, 83, 160)\"],[0.45454545454545453,\"rgb(62, 109, 178)\"],[0.5454545454545454,\"rgb(72, 134, 187)\"],[0.6363636363636364,\"rgb(89, 159, 196)\"],[0.7272727272727273,\"rgb(114, 184, 205)\"],[0.8181818181818182,\"rgb(149, 207, 216)\"],[0.9090909090909091,\"rgb(192, 229, 232)\"],[1.0,\"rgb(234, 252, 253)\"]],\"hovertemplate\":\"Sex: m\\u003cbr\\u003eAge Group: 40-50\\u003cbr\\u003eCount: 118.0\\u003cextra\\u003e\\u003c\\u002fextra\\u003e\",\"i\":[0,0,4,4,0,0,1,1,2,2,3,3],\"intensity\":[0,0,0,0,118.0,118.0,118.0,118.0],\"intensitymode\":\"vertex\",\"j\":[1,2,5,6,1,5,2,6,3,7,0,4],\"k\":[2,3,6,7,5,4,6,5,7,6,4,7],\"name\":\"\",\"opacity\":0.95,\"showscale\":false,\"x\":[-0.4,0.4,0.4,-0.4,-0.4,0.4,0.4,-0.4],\"y\":[1.6,1.6,2.4,2.4,1.6,1.6,2.4,2.4],\"z\":[0.0,0.0,0.0,0.0,118.0,118.0,118.0,118.0],\"type\":\"mesh3d\"},{\"cmax\":118.0,\"cmin\":0.0,\"colorscale\":[[0.0,\"rgb(3, 5, 18)\"],[0.09090909090909091,\"rgb(25, 25, 51)\"],[0.18181818181818182,\"rgb(44, 42, 87)\"],[0.2727272727272727,\"rgb(58, 60, 125)\"],[0.36363636363636365,\"rgb(62, 83, 160)\"],[0.45454545454545453,\"rgb(62, 109, 178)\"],[0.5454545454545454,\"rgb(72, 134, 187)\"],[0.6363636363636364,\"rgb(89, 159, 196)\"],[0.7272727272727273,\"rgb(114, 184, 205)\"],[0.8181818181818182,\"rgb(149, 207, 216)\"],[0.9090909090909091,\"rgb(192, 229, 232)\"],[1.0,\"rgb(234, 252, 253)\"]],\"hovertemplate\":\"Sex: f\\u003cbr\\u003eAge Group: 40-50\\u003cbr\\u003eCount: 81.0\\u003cextra\\u003e\\u003c\\u002fextra\\u003e\",\"i\":[0,0,4,4,0,0,1,1,2,2,3,3],\"intensity\":[0,0,0,0,81.0,81.0,81.0,81.0],\"intensitymode\":\"vertex\",\"j\":[1,2,5,6,1,5,2,6,3,7,0,4],\"k\":[2,3,6,7,5,4,6,5,7,6,4,7],\"name\":\"\",\"opacity\":0.95,\"showscale\":false,\"x\":[0.6,1.4,1.4,0.6,0.6,1.4,1.4,0.6],\"y\":[1.6,1.6,2.4,2.4,1.6,1.6,2.4,2.4],\"z\":[0.0,0.0,0.0,0.0,81.0,81.0,81.0,81.0],\"type\":\"mesh3d\"},{\"cmax\":118.0,\"cmin\":0.0,\"colorscale\":[[0.0,\"rgb(3, 5, 18)\"],[0.09090909090909091,\"rgb(25, 25, 51)\"],[0.18181818181818182,\"rgb(44, 42, 87)\"],[0.2727272727272727,\"rgb(58, 60, 125)\"],[0.36363636363636365,\"rgb(62, 83, 160)\"],[0.45454545454545453,\"rgb(62, 109, 178)\"],[0.5454545454545454,\"rgb(72, 134, 187)\"],[0.6363636363636364,\"rgb(89, 159, 196)\"],[0.7272727272727273,\"rgb(114, 184, 205)\"],[0.8181818181818182,\"rgb(149, 207, 216)\"],[0.9090909090909091,\"rgb(192, 229, 232)\"],[1.0,\"rgb(234, 252, 253)\"]],\"hovertemplate\":\"Sex: m\\u003cbr\\u003eAge Group: 50-60\\u003cbr\\u003eCount: 91.0\\u003cextra\\u003e\\u003c\\u002fextra\\u003e\",\"i\":[0,0,4,4,0,0,1,1,2,2,3,3],\"intensity\":[0,0,0,0,91.0,91.0,91.0,91.0],\"intensitymode\":\"vertex\",\"j\":[1,2,5,6,1,5,2,6,3,7,0,4],\"k\":[2,3,6,7,5,4,6,5,7,6,4,7],\"name\":\"\",\"opacity\":0.95,\"showscale\":false,\"x\":[-0.4,0.4,0.4,-0.4,-0.4,0.4,0.4,-0.4],\"y\":[2.6,2.6,3.4,3.4,2.6,2.6,3.4,3.4],\"z\":[0.0,0.0,0.0,0.0,91.0,91.0,91.0,91.0],\"type\":\"mesh3d\"},{\"cmax\":118.0,\"cmin\":0.0,\"colorscale\":[[0.0,\"rgb(3, 5, 18)\"],[0.09090909090909091,\"rgb(25, 25, 51)\"],[0.18181818181818182,\"rgb(44, 42, 87)\"],[0.2727272727272727,\"rgb(58, 60, 125)\"],[0.36363636363636365,\"rgb(62, 83, 160)\"],[0.45454545454545453,\"rgb(62, 109, 178)\"],[0.5454545454545454,\"rgb(72, 134, 187)\"],[0.6363636363636364,\"rgb(89, 159, 196)\"],[0.7272727272727273,\"rgb(114, 184, 205)\"],[0.8181818181818182,\"rgb(149, 207, 216)\"],[0.9090909090909091,\"rgb(192, 229, 232)\"],[1.0,\"rgb(234, 252, 253)\"]],\"hovertemplate\":\"Sex: f\\u003cbr\\u003eAge Group: 50-60\\u003cbr\\u003eCount: 72.0\\u003cextra\\u003e\\u003c\\u002fextra\\u003e\",\"i\":[0,0,4,4,0,0,1,1,2,2,3,3],\"intensity\":[0,0,0,0,72.0,72.0,72.0,72.0],\"intensitymode\":\"vertex\",\"j\":[1,2,5,6,1,5,2,6,3,7,0,4],\"k\":[2,3,6,7,5,4,6,5,7,6,4,7],\"name\":\"\",\"opacity\":0.95,\"showscale\":false,\"x\":[0.6,1.4,1.4,0.6,0.6,1.4,1.4,0.6],\"y\":[2.6,2.6,3.4,3.4,2.6,2.6,3.4,3.4],\"z\":[0.0,0.0,0.0,0.0,72.0,72.0,72.0,72.0],\"type\":\"mesh3d\"},{\"cmax\":118.0,\"cmin\":0.0,\"colorscale\":[[0.0,\"rgb(3, 5, 18)\"],[0.09090909090909091,\"rgb(25, 25, 51)\"],[0.18181818181818182,\"rgb(44, 42, 87)\"],[0.2727272727272727,\"rgb(58, 60, 125)\"],[0.36363636363636365,\"rgb(62, 83, 160)\"],[0.45454545454545453,\"rgb(62, 109, 178)\"],[0.5454545454545454,\"rgb(72, 134, 187)\"],[0.6363636363636364,\"rgb(89, 159, 196)\"],[0.7272727272727273,\"rgb(114, 184, 205)\"],[0.8181818181818182,\"rgb(149, 207, 216)\"],[0.9090909090909091,\"rgb(192, 229, 232)\"],[1.0,\"rgb(234, 252, 253)\"]],\"hovertemplate\":\"Sex: m\\u003cbr\\u003eAge Group: 60+\\u003cbr\\u003eCount: 42.0\\u003cextra\\u003e\\u003c\\u002fextra\\u003e\",\"i\":[0,0,4,4,0,0,1,1,2,2,3,3],\"intensity\":[0,0,0,0,42.0,42.0,42.0,42.0],\"intensitymode\":\"vertex\",\"j\":[1,2,5,6,1,5,2,6,3,7,0,4],\"k\":[2,3,6,7,5,4,6,5,7,6,4,7],\"name\":\"\",\"opacity\":0.95,\"showscale\":false,\"x\":[-0.4,0.4,0.4,-0.4,-0.4,0.4,0.4,-0.4],\"y\":[3.6,3.6,4.4,4.4,3.6,3.6,4.4,4.4],\"z\":[0.0,0.0,0.0,0.0,42.0,42.0,42.0,42.0],\"type\":\"mesh3d\"},{\"cmax\":118.0,\"cmin\":0.0,\"colorscale\":[[0.0,\"rgb(3, 5, 18)\"],[0.09090909090909091,\"rgb(25, 25, 51)\"],[0.18181818181818182,\"rgb(44, 42, 87)\"],[0.2727272727272727,\"rgb(58, 60, 125)\"],[0.36363636363636365,\"rgb(62, 83, 160)\"],[0.45454545454545453,\"rgb(62, 109, 178)\"],[0.5454545454545454,\"rgb(72, 134, 187)\"],[0.6363636363636364,\"rgb(89, 159, 196)\"],[0.7272727272727273,\"rgb(114, 184, 205)\"],[0.8181818181818182,\"rgb(149, 207, 216)\"],[0.9090909090909091,\"rgb(192, 229, 232)\"],[1.0,\"rgb(234, 252, 253)\"]],\"hovertemplate\":\"Sex: f\\u003cbr\\u003eAge Group: 60+\\u003cbr\\u003eCount: 18.0\\u003cextra\\u003e\\u003c\\u002fextra\\u003e\",\"i\":[0,0,4,4,0,0,1,1,2,2,3,3],\"intensity\":[0,0,0,0,18.0,18.0,18.0,18.0],\"intensitymode\":\"vertex\",\"j\":[1,2,5,6,1,5,2,6,3,7,0,4],\"k\":[2,3,6,7,5,4,6,5,7,6,4,7],\"name\":\"\",\"opacity\":0.95,\"showscale\":false,\"x\":[0.6,1.4,1.4,0.6,0.6,1.4,1.4,0.6],\"y\":[3.6,3.6,4.4,4.4,3.6,3.6,4.4,4.4],\"z\":[0.0,0.0,0.0,0.0,18.0,18.0,18.0,18.0],\"type\":\"mesh3d\"}],                        {\"template\":{\"data\":{\"histogram2dcontour\":[{\"type\":\"histogram2dcontour\",\"colorbar\":{\"outlinewidth\":0,\"ticks\":\"\"},\"colorscale\":[[0.0,\"#0d0887\"],[0.1111111111111111,\"#46039f\"],[0.2222222222222222,\"#7201a8\"],[0.3333333333333333,\"#9c179e\"],[0.4444444444444444,\"#bd3786\"],[0.5555555555555556,\"#d8576b\"],[0.6666666666666666,\"#ed7953\"],[0.7777777777777778,\"#fb9f3a\"],[0.8888888888888888,\"#fdca26\"],[1.0,\"#f0f921\"]]}],\"choropleth\":[{\"type\":\"choropleth\",\"colorbar\":{\"outlinewidth\":0,\"ticks\":\"\"}}],\"histogram2d\":[{\"type\":\"histogram2d\",\"colorbar\":{\"outlinewidth\":0,\"ticks\":\"\"},\"colorscale\":[[0.0,\"#0d0887\"],[0.1111111111111111,\"#46039f\"],[0.2222222222222222,\"#7201a8\"],[0.3333333333333333,\"#9c179e\"],[0.4444444444444444,\"#bd3786\"],[0.5555555555555556,\"#d8576b\"],[0.6666666666666666,\"#ed7953\"],[0.7777777777777778,\"#fb9f3a\"],[0.8888888888888888,\"#fdca26\"],[1.0,\"#f0f921\"]]}],\"heatmap\":[{\"type\":\"heatmap\",\"colorbar\":{\"outlinewidth\":0,\"ticks\":\"\"},\"colorscale\":[[0.0,\"#0d0887\"],[0.1111111111111111,\"#46039f\"],[0.2222222222222222,\"#7201a8\"],[0.3333333333333333,\"#9c179e\"],[0.4444444444444444,\"#bd3786\"],[0.5555555555555556,\"#d8576b\"],[0.6666666666666666,\"#ed7953\"],[0.7777777777777778,\"#fb9f3a\"],[0.8888888888888888,\"#fdca26\"],[1.0,\"#f0f921\"]]}],\"heatmapgl\":[{\"type\":\"heatmapgl\",\"colorbar\":{\"outlinewidth\":0,\"ticks\":\"\"},\"colorscale\":[[0.0,\"#0d0887\"],[0.1111111111111111,\"#46039f\"],[0.2222222222222222,\"#7201a8\"],[0.3333333333333333,\"#9c179e\"],[0.4444444444444444,\"#bd3786\"],[0.5555555555555556,\"#d8576b\"],[0.6666666666666666,\"#ed7953\"],[0.7777777777777778,\"#fb9f3a\"],[0.8888888888888888,\"#fdca26\"],[1.0,\"#f0f921\"]]}],\"contourcarpet\":[{\"type\":\"contourcarpet\",\"colorbar\":{\"outlinewidth\":0,\"ticks\":\"\"}}],\"contour\":[{\"type\":\"contour\",\"colorbar\":{\"outlinewidth\":0,\"ticks\":\"\"},\"colorscale\":[[0.0,\"#0d0887\"],[0.1111111111111111,\"#46039f\"],[0.2222222222222222,\"#7201a8\"],[0.3333333333333333,\"#9c179e\"],[0.4444444444444444,\"#bd3786\"],[0.5555555555555556,\"#d8576b\"],[0.6666666666666666,\"#ed7953\"],[0.7777777777777778,\"#fb9f3a\"],[0.8888888888888888,\"#fdca26\"],[1.0,\"#f0f921\"]]}],\"surface\":[{\"type\":\"surface\",\"colorbar\":{\"outlinewidth\":0,\"ticks\":\"\"},\"colorscale\":[[0.0,\"#0d0887\"],[0.1111111111111111,\"#46039f\"],[0.2222222222222222,\"#7201a8\"],[0.3333333333333333,\"#9c179e\"],[0.4444444444444444,\"#bd3786\"],[0.5555555555555556,\"#d8576b\"],[0.6666666666666666,\"#ed7953\"],[0.7777777777777778,\"#fb9f3a\"],[0.8888888888888888,\"#fdca26\"],[1.0,\"#f0f921\"]]}],\"mesh3d\":[{\"type\":\"mesh3d\",\"colorbar\":{\"outlinewidth\":0,\"ticks\":\"\"}}],\"scatter\":[{\"fillpattern\":{\"fillmode\":\"overlay\",\"size\":10,\"solidity\":0.2},\"type\":\"scatter\"}],\"parcoords\":[{\"type\":\"parcoords\",\"line\":{\"colorbar\":{\"outlinewidth\":0,\"ticks\":\"\"}}}],\"scatterpolargl\":[{\"type\":\"scatterpolargl\",\"marker\":{\"colorbar\":{\"outlinewidth\":0,\"ticks\":\"\"}}}],\"bar\":[{\"error_x\":{\"color\":\"#2a3f5f\"},\"error_y\":{\"color\":\"#2a3f5f\"},\"marker\":{\"line\":{\"color\":\"#E5ECF6\",\"width\":0.5},\"pattern\":{\"fillmode\":\"overlay\",\"size\":10,\"solidity\":0.2}},\"type\":\"bar\"}],\"scattergeo\":[{\"type\":\"scattergeo\",\"marker\":{\"colorbar\":{\"outlinewidth\":0,\"ticks\":\"\"}}}],\"scatterpolar\":[{\"type\":\"scatterpolar\",\"marker\":{\"colorbar\":{\"outlinewidth\":0,\"ticks\":\"\"}}}],\"histogram\":[{\"marker\":{\"pattern\":{\"fillmode\":\"overlay\",\"size\":10,\"solidity\":0.2}},\"type\":\"histogram\"}],\"scattergl\":[{\"type\":\"scattergl\",\"marker\":{\"colorbar\":{\"outlinewidth\":0,\"ticks\":\"\"}}}],\"scatter3d\":[{\"type\":\"scatter3d\",\"line\":{\"colorbar\":{\"outlinewidth\":0,\"ticks\":\"\"}},\"marker\":{\"colorbar\":{\"outlinewidth\":0,\"ticks\":\"\"}}}],\"scattermapbox\":[{\"type\":\"scattermapbox\",\"marker\":{\"colorbar\":{\"outlinewidth\":0,\"ticks\":\"\"}}}],\"scatterternary\":[{\"type\":\"scatterternary\",\"marker\":{\"colorbar\":{\"outlinewidth\":0,\"ticks\":\"\"}}}],\"scattercarpet\":[{\"type\":\"scattercarpet\",\"marker\":{\"colorbar\":{\"outlinewidth\":0,\"ticks\":\"\"}}}],\"carpet\":[{\"aaxis\":{\"endlinecolor\":\"#2a3f5f\",\"gridcolor\":\"white\",\"linecolor\":\"white\",\"minorgridcolor\":\"white\",\"startlinecolor\":\"#2a3f5f\"},\"baxis\":{\"endlinecolor\":\"#2a3f5f\",\"gridcolor\":\"white\",\"linecolor\":\"white\",\"minorgridcolor\":\"white\",\"startlinecolor\":\"#2a3f5f\"},\"type\":\"carpet\"}],\"table\":[{\"cells\":{\"fill\":{\"color\":\"#EBF0F8\"},\"line\":{\"color\":\"white\"}},\"header\":{\"fill\":{\"color\":\"#C8D4E3\"},\"line\":{\"color\":\"white\"}},\"type\":\"table\"}],\"barpolar\":[{\"marker\":{\"line\":{\"color\":\"#E5ECF6\",\"width\":0.5},\"pattern\":{\"fillmode\":\"overlay\",\"size\":10,\"solidity\":0.2}},\"type\":\"barpolar\"}],\"pie\":[{\"automargin\":true,\"type\":\"pie\"}]},\"layout\":{\"autotypenumbers\":\"strict\",\"colorway\":[\"#636efa\",\"#EF553B\",\"#00cc96\",\"#ab63fa\",\"#FFA15A\",\"#19d3f3\",\"#FF6692\",\"#B6E880\",\"#FF97FF\",\"#FECB52\"],\"font\":{\"color\":\"#2a3f5f\"},\"hovermode\":\"closest\",\"hoverlabel\":{\"align\":\"left\"},\"paper_bgcolor\":\"white\",\"plot_bgcolor\":\"#E5ECF6\",\"polar\":{\"bgcolor\":\"#E5ECF6\",\"angularaxis\":{\"gridcolor\":\"white\",\"linecolor\":\"white\",\"ticks\":\"\"},\"radialaxis\":{\"gridcolor\":\"white\",\"linecolor\":\"white\",\"ticks\":\"\"}},\"ternary\":{\"bgcolor\":\"#E5ECF6\",\"aaxis\":{\"gridcolor\":\"white\",\"linecolor\":\"white\",\"ticks\":\"\"},\"baxis\":{\"gridcolor\":\"white\",\"linecolor\":\"white\",\"ticks\":\"\"},\"caxis\":{\"gridcolor\":\"white\",\"linecolor\":\"white\",\"ticks\":\"\"}},\"coloraxis\":{\"colorbar\":{\"outlinewidth\":0,\"ticks\":\"\"}},\"colorscale\":{\"sequential\":[[0.0,\"#0d0887\"],[0.1111111111111111,\"#46039f\"],[0.2222222222222222,\"#7201a8\"],[0.3333333333333333,\"#9c179e\"],[0.4444444444444444,\"#bd3786\"],[0.5555555555555556,\"#d8576b\"],[0.6666666666666666,\"#ed7953\"],[0.7777777777777778,\"#fb9f3a\"],[0.8888888888888888,\"#fdca26\"],[1.0,\"#f0f921\"]],\"sequentialminus\":[[0.0,\"#0d0887\"],[0.1111111111111111,\"#46039f\"],[0.2222222222222222,\"#7201a8\"],[0.3333333333333333,\"#9c179e\"],[0.4444444444444444,\"#bd3786\"],[0.5555555555555556,\"#d8576b\"],[0.6666666666666666,\"#ed7953\"],[0.7777777777777778,\"#fb9f3a\"],[0.8888888888888888,\"#fdca26\"],[1.0,\"#f0f921\"]],\"diverging\":[[0,\"#8e0152\"],[0.1,\"#c51b7d\"],[0.2,\"#de77ae\"],[0.3,\"#f1b6da\"],[0.4,\"#fde0ef\"],[0.5,\"#f7f7f7\"],[0.6,\"#e6f5d0\"],[0.7,\"#b8e186\"],[0.8,\"#7fbc41\"],[0.9,\"#4d9221\"],[1,\"#276419\"]]},\"xaxis\":{\"gridcolor\":\"white\",\"linecolor\":\"white\",\"ticks\":\"\",\"title\":{\"standoff\":15},\"zerolinecolor\":\"white\",\"automargin\":true,\"zerolinewidth\":2},\"yaxis\":{\"gridcolor\":\"white\",\"linecolor\":\"white\",\"ticks\":\"\",\"title\":{\"standoff\":15},\"zerolinecolor\":\"white\",\"automargin\":true,\"zerolinewidth\":2},\"scene\":{\"xaxis\":{\"backgroundcolor\":\"#E5ECF6\",\"gridcolor\":\"white\",\"linecolor\":\"white\",\"showbackground\":true,\"ticks\":\"\",\"zerolinecolor\":\"white\",\"gridwidth\":2},\"yaxis\":{\"backgroundcolor\":\"#E5ECF6\",\"gridcolor\":\"white\",\"linecolor\":\"white\",\"showbackground\":true,\"ticks\":\"\",\"zerolinecolor\":\"white\",\"gridwidth\":2},\"zaxis\":{\"backgroundcolor\":\"#E5ECF6\",\"gridcolor\":\"white\",\"linecolor\":\"white\",\"showbackground\":true,\"ticks\":\"\",\"zerolinecolor\":\"white\",\"gridwidth\":2}},\"shapedefaults\":{\"line\":{\"color\":\"#2a3f5f\"}},\"annotationdefaults\":{\"arrowcolor\":\"#2a3f5f\",\"arrowhead\":0,\"arrowwidth\":1},\"geo\":{\"bgcolor\":\"white\",\"landcolor\":\"#E5ECF6\",\"subunitcolor\":\"white\",\"showland\":true,\"showlakes\":true,\"lakecolor\":\"white\"},\"title\":{\"x\":0.05},\"mapbox\":{\"style\":\"light\"}}},\"scene\":{\"xaxis\":{\"title\":{\"text\":\"Sex\"},\"tickvals\":[0,1],\"ticktext\":[\"m\",\"f\"]},\"yaxis\":{\"title\":{\"text\":\"Age Group\"},\"tickvals\":[0,1,2,3,4],\"ticktext\":[\"\\u003c30\",\"30-40\",\"40-50\",\"50-60\",\"60+\"]},\"camera\":{\"eye\":{\"x\":1.2,\"y\":1.2,\"z\":1.2}},\"zaxis\":{\"title\":{\"text\":\"Patient Count\"}}},\"margin\":{\"l\":0,\"r\":0,\"b\":0,\"t\":50},\"title\":{\"text\":\"3D Bar Plot: Patient Distribution by Age Group and Sex - Vandan Amin\"},\"width\":800,\"height\":750},                        {\"responsive\": true}                    ).then(function(){\n",
       "                            \n",
       "var gd = document.getElementById('84c70708-04a9-4c50-b4ed-2deaa18bd854');\n",
       "var x = new MutationObserver(function (mutations, observer) {{\n",
       "        var display = window.getComputedStyle(gd).display;\n",
       "        if (!display || display === 'none') {{\n",
       "            console.log([gd, 'removed!']);\n",
       "            Plotly.purge(gd);\n",
       "            observer.disconnect();\n",
       "        }}\n",
       "}});\n",
       "\n",
       "// Listen for the removal of the full notebook cells\n",
       "var notebookContainer = gd.closest('#notebook-container');\n",
       "if (notebookContainer) {{\n",
       "    x.observe(notebookContainer, {childList: true});\n",
       "}}\n",
       "\n",
       "// Listen for the clearing of the current output cell\n",
       "var outputEl = gd.closest('.output');\n",
       "if (outputEl) {{\n",
       "    x.observe(outputEl, {childList: true});\n",
       "}}\n",
       "\n",
       "                        })                };                });            </script>        </div>"
      ]
     },
     "metadata": {},
     "output_type": "display_data"
    }
   ],
   "source": [
    "\n",
    "df_clean = df.drop(columns=['Unnamed: 0']).copy()\n",
    "df_clean['Category'] = df_clean['Category'].map({\n",
    "    '0=Blood Donor': 'Blood Donor',\n",
    "    '0s=suspect Blood Donor': 'Suspect Donor',\n",
    "    '1=Hepatitis': 'Hepatitis',\n",
    "    '2=Fibrosis': 'Fibrosis',\n",
    "    '3=Cirrhosis': 'Cirrhosis'\n",
    "})\n",
    "df_clean = df_clean.dropna()\n",
    "df_clean['AgeGroup'] = pd.cut(df_clean['Age'], bins=[0, 30, 40, 50, 60, 100],\n",
    "                              labels=['<30', '30-40', '40-50', '50-60', '60+'])\n",
    "\n",
    "grouped = df_clean.groupby(['AgeGroup', 'Sex', 'Category'], observed=True).size().reset_index(name='Count')\n",
    "pivoted = grouped.pivot_table(index='AgeGroup', columns='Sex', values='Count', fill_value=0, aggfunc='sum', observed=True)\n",
    "\n",
    "# Create matrix\n",
    "age_labels = ['<30', '30-40', '40-50', '50-60', '60+']\n",
    "sex_labels = ['m', 'f']\n",
    "z1 = np.zeros((len(age_labels), len(sex_labels)))\n",
    "for i, age in enumerate(age_labels):\n",
    "    for j, sex in enumerate(sex_labels):\n",
    "        z1[i, j] = pivoted.loc[age, sex] if sex in pivoted.columns else 0\n",
    "\n",
    "# Plot bars as 3D meshes\n",
    "n_rows, n_cols = z1.shape\n",
    "dx, dy = 0.8, 0.8\n",
    "traces = []\n",
    "\n",
    "for i in range(n_rows):\n",
    "    for j in range(n_cols):\n",
    "        elevation = z1[i, j]\n",
    "        x0, x1 = j - dx / 2, j + dx / 2\n",
    "        y0, y1 = i - dy / 2, i + dy / 2\n",
    "        vertices = np.array([\n",
    "            [x0, y0, 0], [x1, y0, 0], [x1, y1, 0], [x0, y1, 0],\n",
    "            [x0, y0, elevation], [x1, y0, elevation],\n",
    "            [x1, y1, elevation], [x0, y1, elevation]\n",
    "        ])\n",
    "        faces = [[0, 1, 2], [0, 2, 3], [4, 5, 6], [4, 6, 7],\n",
    "                 [0, 1, 5], [0, 5, 4], [1, 2, 6], [1, 6, 5],\n",
    "                 [2, 3, 7], [2, 7, 6], [3, 0, 4], [3, 4, 7]]\n",
    "        i_faces, j_faces, k_faces = zip(*faces)\n",
    "        intensity = [0]*4 + [elevation]*4\n",
    "\n",
    "        traces.append(go.Mesh3d(\n",
    "            x=vertices[:, 0], y=vertices[:, 1], z=vertices[:, 2],\n",
    "            i=i_faces, j=j_faces, k=k_faces,\n",
    "            intensity=intensity,\n",
    "            intensitymode='vertex',\n",
    "            colorscale='Ice',\n",
    "            cmin=z1.min(),\n",
    "            cmax=z1.max(),\n",
    "            showscale=False,\n",
    "            opacity=0.95,\n",
    "            hovertemplate=f\"Sex: {sex_labels[j]}<br>Age Group: {age_labels[i]}<br>Count: {elevation}<extra></extra>\",\n",
    "            name=''\n",
    "        ))\n",
    "\n",
    "# Layout and display\n",
    "fig = go.Figure(data=traces)\n",
    "fig.update_layout(\n",
    "    title=\"3D Bar Plot: Patient Distribution by Age Group and Sex - Vandan Amin\",\n",
    "    scene=dict(\n",
    "        xaxis=dict(title='Sex', tickvals=[0, 1], ticktext=sex_labels),\n",
    "        yaxis=dict(title='Age Group', tickvals=list(range(len(age_labels))), ticktext=age_labels),\n",
    "        zaxis=dict(title='Patient Count'),\n",
    "        camera_eye=dict(x=1.2, y=1.2, z=1.2)\n",
    "    ),\n",
    "    width=800,\n",
    "    height=750,\n",
    "    margin=dict(l=0, r=0, b=0, t=50)\n",
    ")\n",
    "fig.show()\n"
   ]
  },
  {
   "cell_type": "markdown",
   "id": "a4a50663-0eea-4727-8626-f3947e7b6388",
   "metadata": {},
   "source": [
    "## 4. 3D Wireframe Plot: ALT, AST, and BIL Across Patients\n",
    "\n",
    "**Purpose**: This visualization examines trends in three key liver function metrics (ALT, AST, and Bilirubin) across a subset of 100 patients.  \n",
    "**Big Takeaway**: The plot reveals fluctuations and overlaps between enzyme levels. AST and ALT often track together, while BIL varies more independently — suggesting different diagnostic roles for these features.\n"
   ]
  },
  {
   "cell_type": "code",
   "execution_count": 115,
   "id": "309024d6-0ba2-43ef-ada9-67577fc50560",
   "metadata": {},
   "outputs": [
    {
     "data": {
      "image/png": "[encoded data removed]",
      "text/plain": [
       "<Figure size 1200x700 with 1 Axes>"
      ]
     },
     "metadata": {},
     "output_type": "display_data"
    }
   ],
   "source": [
    "subset_df = df_clean[['ALT', 'AST', 'BIL']].iloc[:100]\n",
    "\n",
    "x = np.arange(subset_df.shape[0])  # patient index\n",
    "y = np.arange(subset_df.shape[1])  # feature index (ALT, AST, BIL)\n",
    "x_grid, y_grid = np.meshgrid(x, y)\n",
    "z = subset_df.T.values  # shape: (3, 100)\n",
    "\n",
    "fig = plt.figure(figsize=(12, 7))\n",
    "ax = fig.add_subplot(111, projection='3d')\n",
    "\n",
    "ax.plot_wireframe(x_grid, y_grid, z, rstride=2, cstride=2, linewidth=1.2)\n",
    "\n",
    "ax.set_xlabel('Patient Index')\n",
    "ax.set_ylabel('Feature (0=ALT, 1=AST, 2=BIL)')\n",
    "ax.set_zlabel('Lab Value')\n",
    "ax.set_title('3D Wireframe Plot: ALT, AST, and BIL Across Patients')\n",
    "\n",
    "plt.subplots_adjust(left=0.1, right=0.9, bottom=0.1, top=0.9)\n",
    "plt.savefig('VandanAmin_Wireframe_ALT_AST_BIL.png')\n",
    "plt.show()\n"
   ]
  },
  {
   "cell_type": "markdown",
   "id": "f9c371be-959a-4579-ae8b-f160ec48fdb1",
   "metadata": {},
   "source": [
    "## 5. 3D Bubble Plot: Age, Cholesterol, Creatinine with Protein Size\n",
    "\n",
    "**Purpose**: Adds protein level as a bubble size to visualize four dimensions: Age, CHOL, CREA, and PROT.\n",
    "\n",
    "**Big Takeaway**:  Larger bubbles (more protein) are often linked with disease states. Blood donors again form a consistent base, while Fibrosis and Cirrhosis cases show higher variation in creatinine and cholesterol. The extra dimension helps highlight metabolic imbalances.\n"
   ]
  },
  {
   "cell_type": "code",
   "execution_count": 133,
   "id": "917a54f0-c940-4063-914c-98eb75613441",
   "metadata": {},
   "outputs": [
    {
     "data": {
      "application/vnd.plotly.v1+json": {
       "config": {
        "plotlyServerURL": "https://plot.ly"
       },
       "data": [
        {
         "hovertemplate": "Category=Blood Donor<br>Age=%{x}<br>Cholesterol=%{y}<br>Creatinine=%{z}<br>PROT_scaled=%{marker.size}<extra></extra>",
         "legendgroup": "Blood Donor",
         "marker": {
          "color": "#636efa",
          "size": [
           121.00000000000001,
           158.5,
           172.5,
           154.50000000000003,
           119.50000000000003,
           146,
           148.5,
           111.49999999999999,
           132.5,
           125.50000000000004,
           153.00000000000006,
           118.99999999999999,
           119.50000000000003,
           128.00000000000006,
           135.50000000000006,
           139.50000000000003,
           138.00000000000006,
           158.5,
           122.5,
           116.49999999999999,
           146,
           147.5,
           121.49999999999999,
           123.99999999999999,
           136,
           170.50000000000006,
           114.50000000000003,
           42.00000000000003,
           135.50000000000006,
           141.5,
           132.5,
           169.50000000000003,
           122.5,
           131,
           144,
           161.5,
           132.5,
           155,
           165,
           112.00000000000003,
           146,
           162.5,
           179.50000000000003,
           174,
           134,
           122.5,
           130,
           143.00000000000006,
           162.5,
           157.00000000000003,
           131,
           145,
           175.50000000000006,
           137.5,
           143.00000000000006,
           158.5,
           122.5,
           179,
           138.5,
           57.5,
           157.5,
           133.5,
           141.5,
           151,
           149.50000000000003,
           122.5,
           136,
           152.00000000000003,
           170.50000000000006,
           151.5,
           141.5,
           141.5,
           156.5,
           145.50000000000006,
           113.00000000000004,
           126.49999999999999,
           109.50000000000003,
           189,
           116.49999999999999,
           154,
           132.00000000000003,
           162.00000000000003,
           168.00000000000006,
           107.5,
           107.00000000000003,
           152.00000000000003,
           128.5,
           170.50000000000006,
           141.5,
           137.00000000000003,
           153.5,
           131.5,
           145.50000000000006,
           132.00000000000003,
           138.5,
           146.5,
           120,
           181.5,
           159,
           152.5,
           151.5,
           96.49999999999999,
           156.5,
           132.5,
           142.5,
           193.00000000000006,
           136.5,
           135.50000000000006,
           138.00000000000006,
           141,
           130,
           135,
           141.5,
           136.5,
           145,
           96.49999999999999,
           163.5,
           118.00000000000004,
           177.5,
           172.5,
           147.00000000000003,
           135,
           154,
           137.00000000000003,
           140.50000000000006,
           153.00000000000006,
           148.5,
           160.50000000000006,
           144,
           160,
           130.50000000000006,
           116.00000000000001,
           152.5,
           146,
           93,
           132.00000000000003,
           122.00000000000003,
           129,
           157.00000000000003,
           108.99999999999999,
           127.5,
           148.5,
           112.00000000000003,
           153.5,
           132.5,
           170,
           144.50000000000003,
           86.50000000000003,
           112.00000000000003,
           114.50000000000003,
           101.00000000000001,
           152.00000000000003,
           175,
           127.00000000000003,
           142.00000000000003,
           120,
           152.00000000000003,
           125.50000000000004,
           157.5,
           177.5,
           162.00000000000003,
           140.50000000000006,
           138.00000000000006,
           108.00000000000004,
           116.49999999999999,
           163.5,
           123.50000000000001,
           141,
           153.00000000000006,
           121.49999999999999,
           117.5,
           166,
           186.5,
           183.5,
           155,
           135,
           150.50000000000006,
           151,
           110,
           120.50000000000004,
           146.5,
           146.5,
           165,
           192.5,
           140.50000000000006,
           125,
           103.00000000000004,
           119.50000000000003,
           125,
           137.5,
           133.00000000000006,
           130,
           173.5,
           131,
           159.50000000000003,
           108.99999999999999,
           147.00000000000003,
           111.00000000000001,
           128.5,
           142.00000000000003,
           122.00000000000003,
           138.5,
           120.50000000000004,
           105,
           141.5,
           108.00000000000004,
           100.50000000000004,
           134,
           165,
           161.5,
           141,
           177.5,
           145.50000000000006,
           164,
           140.50000000000006,
           113.00000000000004,
           98.00000000000004,
           142.5,
           153.00000000000006,
           97.00000000000003,
           180.50000000000006,
           118.50000000000001,
           174,
           144,
           131.5,
           169,
           142.00000000000003,
           136,
           155,
           102.00000000000003,
           153.00000000000006,
           132.5,
           115.50000000000004,
           125.50000000000004,
           165,
           172.5,
           160,
           155.50000000000006,
           152.00000000000003,
           115.50000000000004,
           138.00000000000006,
           164.50000000000003,
           141,
           126.49999999999999,
           107.5,
           137.00000000000003,
           159.50000000000003,
           88,
           139.50000000000003,
           125.50000000000004,
           138.5,
           146.5,
           156,
           111.49999999999999,
           126.49999999999999,
           135.50000000000006,
           123.99999999999999,
           148.5,
           164,
           135,
           132.5,
           163.5,
           155,
           138.00000000000006,
           126.49999999999999,
           130.50000000000006,
           168.5,
           149,
           121.00000000000001,
           135.50000000000006,
           98.50000000000001,
           164,
           168.5,
           96.49999999999999,
           134,
           110.50000000000004,
           126.00000000000001,
           133.5,
           135.50000000000006,
           148.00000000000006,
           130,
           147.00000000000003,
           156,
           174,
           133.00000000000006,
           136,
           208.5,
           100,
           165,
           139.50000000000003,
           144.50000000000003,
           122.5,
           129.50000000000003,
           106.00000000000001,
           119.50000000000003,
           147.5,
           117.00000000000003,
           133.5,
           161,
           154.50000000000003,
           97.5,
           153.5,
           159.50000000000003,
           135,
           141.5,
           144,
           113.50000000000001,
           150,
           128.00000000000006,
           153.5,
           147.00000000000003,
           60.50000000000001,
           144.50000000000003,
           125,
           66.50000000000003,
           145,
           112.00000000000003,
           138.5,
           120.50000000000004,
           156.5,
           106.49999999999999,
           136,
           145,
           136,
           128.5,
           110.50000000000004,
           151,
           167.5,
           133.5,
           142.5,
           125.50000000000004,
           133.00000000000006,
           129.50000000000003,
           135.50000000000006,
           97.00000000000003,
           147.5,
           179,
           174.50000000000003,
           133.5,
           156.5,
           125.50000000000004,
           140,
           128.00000000000006,
           135.50000000000006,
           96.49999999999999,
           135,
           179.50000000000003,
           172.5,
           158.00000000000006,
           153.5,
           168.5,
           181,
           140,
           129.50000000000003,
           143.00000000000006,
           121.00000000000001,
           131,
           162.5,
           162.5,
           108.99999999999999,
           146,
           116.49999999999999,
           137.5,
           162.5,
           143.5,
           141.5,
           142.00000000000003,
           145.50000000000006,
           140,
           141,
           135.50000000000006,
           161.5,
           144.50000000000003,
           103.50000000000001,
           187.5,
           136.5,
           111.49999999999999,
           142.00000000000003,
           130.50000000000006,
           141.5,
           148.00000000000006,
           117.00000000000003,
           140,
           118.00000000000004,
           129.50000000000003,
           107.5,
           148.00000000000006,
           102.00000000000003,
           128.5,
           163.5,
           123.00000000000004,
           139.50000000000003,
           116.00000000000001,
           114.50000000000003,
           113.50000000000001,
           137.00000000000003,
           125.50000000000004,
           128.5,
           118.00000000000004,
           161.5,
           126.49999999999999,
           123.99999999999999,
           108.99999999999999,
           138.00000000000006,
           121.00000000000001,
           133.5,
           123.50000000000001,
           136,
           158.00000000000006,
           99.50000000000003,
           125,
           152.00000000000003,
           126.00000000000001,
           139.50000000000003,
           161.5,
           106.00000000000001,
           115,
           111.00000000000001,
           114.50000000000003,
           107.00000000000003,
           136.5,
           134.50000000000003,
           103.99999999999999,
           163.00000000000006,
           129,
           115.50000000000004,
           155,
           141.5,
           147.00000000000003,
           141.5,
           132.00000000000003,
           92.00000000000003,
           129.50000000000003,
           145.50000000000006,
           116.49999999999999,
           147.5,
           142.00000000000003,
           88.50000000000001,
           167.00000000000003,
           160.50000000000006,
           118.00000000000004,
           143.5,
           120,
           132.00000000000003,
           117.00000000000003,
           127.00000000000003,
           167.5,
           129,
           127.00000000000003,
           135.50000000000006,
           121.00000000000001,
           135.50000000000006,
           137.00000000000003,
           138.00000000000006,
           142.5,
           140.50000000000006,
           131,
           152.00000000000003,
           128.5,
           138.00000000000006,
           122.00000000000003,
           161.5,
           113.00000000000004,
           187.00000000000003,
           107.5,
           126.00000000000001,
           131.5,
           130.50000000000006,
           130,
           149,
           160.50000000000006,
           122.00000000000003,
           162.5,
           118.50000000000001,
           151,
           161.5,
           129.50000000000003,
           61.000000000000014,
           135.50000000000006,
           105,
           142.5,
           152.00000000000003,
           127.5,
           78.50000000000001,
           142.5,
           112.00000000000003,
           139,
           123.00000000000004,
           131,
           91.50000000000003,
           109.50000000000003,
           111.49999999999999,
           154.50000000000003,
           150,
           130.50000000000006,
           88.50000000000001,
           122.5,
           129.50000000000003,
           141.5,
           118.50000000000001,
           135.50000000000006,
           128.00000000000006,
           31.000000000000014,
           159,
           153.00000000000006,
           130.50000000000006,
           135.50000000000006,
           134.50000000000003,
           135,
           161,
           159,
           140,
           133.5,
           170.50000000000006,
           125.50000000000004,
           115,
           103.00000000000004,
           147.5,
           148.5,
           101.00000000000001,
           60.50000000000001,
           105,
           143.00000000000006,
           97.00000000000003,
           120.50000000000004,
           102.5
          ],
          "sizemode": "area",
          "sizeref": 0.52125,
          "symbol": "circle"
         },
         "mode": "markers",
         "name": "Blood Donor",
         "scene": "scene",
         "showlegend": true,
         "type": "scatter3d",
         "x": [
          32,
          32,
          32,
          32,
          32,
          32,
          32,
          32,
          32,
          32,
          32,
          33,
          33,
          33,
          33,
          33,
          33,
          33,
          33,
          33,
          33,
          33,
          34,
          34,
          34,
          34,
          34,
          34,
          34,
          34,
          34,
          34,
          34,
          35,
          35,
          35,
          35,
          35,
          35,
          35,
          35,
          35,
          35,
          36,
          36,
          36,
          36,
          36,
          36,
          36,
          36,
          36,
          36,
          37,
          37,
          37,
          37,
          37,
          37,
          37,
          37,
          37,
          37,
          37,
          37,
          37,
          37,
          37,
          37,
          37,
          38,
          38,
          38,
          38,
          38,
          38,
          38,
          38,
          38,
          38,
          39,
          39,
          39,
          39,
          39,
          39,
          39,
          39,
          39,
          39,
          39,
          39,
          40,
          40,
          40,
          40,
          40,
          40,
          40,
          40,
          41,
          41,
          41,
          41,
          41,
          41,
          41,
          41,
          42,
          42,
          42,
          42,
          42,
          42,
          42,
          42,
          42,
          43,
          43,
          43,
          43,
          43,
          43,
          43,
          43,
          43,
          43,
          44,
          44,
          44,
          44,
          44,
          44,
          44,
          44,
          44,
          44,
          45,
          45,
          45,
          45,
          45,
          45,
          45,
          45,
          45,
          46,
          46,
          46,
          46,
          46,
          46,
          46,
          46,
          46,
          46,
          46,
          46,
          46,
          46,
          47,
          47,
          47,
          47,
          47,
          47,
          47,
          47,
          47,
          47,
          47,
          47,
          47,
          48,
          48,
          48,
          48,
          48,
          48,
          48,
          48,
          48,
          48,
          48,
          48,
          49,
          49,
          49,
          49,
          49,
          49,
          49,
          49,
          50,
          50,
          50,
          50,
          50,
          50,
          50,
          50,
          50,
          50,
          50,
          50,
          51,
          51,
          51,
          51,
          51,
          51,
          51,
          51,
          52,
          52,
          52,
          52,
          52,
          52,
          52,
          52,
          52,
          52,
          52,
          52,
          53,
          53,
          53,
          53,
          53,
          53,
          53,
          53,
          53,
          53,
          54,
          54,
          54,
          54,
          54,
          54,
          55,
          55,
          55,
          55,
          55,
          55,
          55,
          55,
          55,
          56,
          56,
          56,
          56,
          56,
          56,
          56,
          56,
          57,
          57,
          57,
          57,
          58,
          58,
          58,
          58,
          59,
          59,
          59,
          59,
          59,
          59,
          59,
          59,
          60,
          60,
          60,
          60,
          60,
          60,
          61,
          61,
          61,
          61,
          61,
          62,
          62,
          62,
          62,
          63,
          63,
          63,
          64,
          64,
          64,
          64,
          65,
          65,
          65,
          65,
          65,
          65,
          66,
          66,
          66,
          66,
          67,
          67,
          67,
          68,
          68,
          70,
          70,
          71,
          76,
          76,
          77,
          32,
          32,
          32,
          33,
          33,
          33,
          33,
          33,
          33,
          33,
          33,
          33,
          33,
          33,
          33,
          34,
          34,
          34,
          34,
          34,
          34,
          34,
          35,
          35,
          35,
          35,
          35,
          35,
          35,
          35,
          35,
          35,
          36,
          36,
          36,
          36,
          37,
          37,
          37,
          38,
          38,
          38,
          38,
          38,
          38,
          39,
          39,
          40,
          40,
          40,
          40,
          40,
          41,
          41,
          41,
          41,
          41,
          42,
          42,
          43,
          43,
          43,
          43,
          43,
          43,
          43,
          43,
          43,
          44,
          44,
          44,
          44,
          44,
          44,
          44,
          44,
          44,
          45,
          45,
          45,
          45,
          45,
          45,
          45,
          45,
          45,
          46,
          46,
          46,
          46,
          46,
          46,
          46,
          46,
          46,
          46,
          46,
          46,
          47,
          47,
          47,
          47,
          47,
          48,
          48,
          48,
          48,
          48,
          48,
          48,
          48,
          48,
          48,
          48,
          48,
          49,
          49,
          49,
          49,
          49,
          49,
          49,
          49,
          50,
          50,
          50,
          50,
          50,
          50,
          51,
          51,
          51,
          51,
          51,
          51,
          51,
          51,
          51,
          51,
          51,
          51,
          52,
          52,
          52,
          52,
          52,
          52,
          52,
          52,
          52,
          53,
          53,
          53,
          53,
          53,
          53,
          53,
          53,
          53,
          54,
          54,
          54,
          54,
          54,
          55,
          55,
          55,
          55,
          56,
          56,
          56,
          56,
          56,
          56,
          56,
          57,
          57,
          57,
          57,
          57,
          57,
          57,
          57,
          57,
          58,
          58,
          58,
          59,
          59,
          59,
          60,
          60,
          60,
          60,
          60,
          60,
          61,
          61,
          62,
          62,
          62,
          63,
          63,
          63,
          64,
          64,
          65,
          68,
          70
         ],
         "y": [
          3.23,
          4.8,
          5.2,
          4.74,
          4.32,
          6.05,
          4.79,
          4.6,
          4.1,
          4.45,
          3.57,
          4.3,
          5.38,
          3.38,
          4.97,
          4.43,
          5.22,
          5.51,
          5.5,
          4.05,
          5.59,
          4.62,
          5.06,
          3.62,
          4.56,
          5.59,
          6.79,
          4.03,
          5.07,
          4.6,
          5.94,
          4.2,
          4.99,
          5.73,
          4.63,
          7.04,
          4.33,
          3.8,
          5.9,
          4.69,
          6.23,
          5.44,
          4.27,
          5.07,
          4.06,
          5.63,
          4.89,
          7.35,
          5.81,
          5.62,
          4.38,
          5.29,
          5.1,
          5.3,
          6.8,
          6.17,
          3.97,
          6.42,
          4.12,
          4.63,
          6.59,
          4.36,
          5.05,
          4.93,
          5.4,
          5.1,
          4.26,
          4.88,
          5.9,
          4.02,
          3.87,
          7.01,
          5.88,
          5.74,
          3.91,
          4.14,
          4.74,
          7.51,
          5.46,
          6.05,
          5.24,
          6.26,
          6.26,
          4.66,
          4.64,
          5.55,
          4.85,
          4.41,
          6.85,
          8.89,
          4.78,
          8.11,
          6.09,
          4.49,
          6.02,
          6.29,
          4.91,
          4.74,
          6.85,
          5.09,
          6.23,
          4.13,
          3.29,
          4.55,
          5.56,
          5.9,
          4.23,
          5.57,
          5.88,
          6.28,
          6.15,
          7.3,
          4.78,
          6.76,
          5.62,
          5.07,
          8.6,
          4.96,
          5.3,
          5.92,
          5.27,
          4.72,
          7.84,
          4.71,
          9.43,
          5.41,
          4.93,
          4.68,
          5.12,
          4.59,
          6.02,
          6.65,
          5.42,
          6.68,
          4.46,
          5.85,
          4.87,
          7.29,
          5.58,
          5.98,
          5.31,
          6.61,
          4.25,
          6.27,
          5.35,
          6.25,
          6.13,
          5.85,
          4.66,
          5.38,
          4.72,
          5.19,
          7.42,
          5.02,
          5.35,
          4.68,
          3.71,
          6.73,
          4.95,
          7.4,
          5.1,
          5.66,
          5.96,
          4.86,
          5.06,
          5.95,
          5.15,
          5.56,
          5.23,
          4.29,
          4.44,
          6.3,
          5.25,
          6.76,
          6.29,
          5.36,
          6.14,
          5.65,
          4.27,
          6.37,
          5.7,
          6.25,
          5.07,
          8.28,
          6.97,
          4.82,
          4.98,
          5.61,
          5.68,
          4.49,
          5.31,
          4.65,
          6.23,
          6.46,
          5.73,
          5.95,
          6.42,
          4.55,
          5.75,
          6.56,
          4.06,
          5.8,
          6.06,
          5.66,
          8.8,
          4.65,
          6.08,
          6.54,
          5.07,
          4.68,
          5.61,
          5.93,
          4.14,
          7.2,
          6.29,
          6.09,
          5.35,
          6.56,
          5,
          4.94,
          5.22,
          4.97,
          6.92,
          6.66,
          4.5,
          7.22,
          4.6,
          5,
          4,
          4.42,
          8.78,
          6.96,
          5.78,
          6.28,
          6.24,
          5.2,
          6.24,
          5.98,
          7.43,
          5.79,
          7.29,
          7.3,
          7.73,
          5.73,
          4.55,
          6.33,
          4.63,
          4.39,
          4.61,
          5.22,
          6.75,
          6.61,
          5.37,
          5.3,
          6.4,
          4.93,
          4.69,
          6.04,
          3.97,
          5.99,
          4.91,
          5.31,
          6.33,
          5.07,
          5.7,
          6.41,
          4.46,
          4.86,
          3.09,
          3.69,
          6.89,
          4.33,
          5.47,
          5.07,
          5.6,
          6.2,
          5.42,
          5.31,
          4.65,
          6.01,
          4.95,
          4.58,
          7.62,
          5.42,
          5.23,
          5.25,
          5.52,
          3.81,
          5.74,
          6.18,
          4.69,
          6.35,
          6.69,
          6.37,
          6.47,
          7.7,
          5.84,
          4.03,
          5.91,
          6.31,
          6.23,
          4.69,
          4.17,
          5.48,
          6.8,
          6.66,
          7.02,
          6.43,
          5.53,
          6.64,
          4.15,
          3.96,
          4.74,
          6.31,
          2.79,
          5.56,
          4.41,
          4.37,
          3.75,
          4.38,
          5.26,
          5.02,
          3.34,
          5.22,
          4.93,
          5.69,
          5.57,
          4.25,
          4.48,
          3.92,
          3.22,
          6.36,
          4.94,
          4.61,
          5.17,
          5.59,
          6.28,
          5.1,
          4.68,
          5.9,
          4.13,
          5.07,
          4.69,
          4.62,
          4.43,
          4.91,
          5.7,
          4.79,
          5.73,
          5.62,
          4.18,
          5.51,
          5.05,
          5.8,
          4.36,
          3.95,
          5.52,
          6.06,
          3.97,
          3.61,
          5.73,
          4.58,
          5.3,
          4.55,
          5.32,
          4.57,
          6.74,
          5.25,
          4.92,
          6.01,
          4.24,
          4.33,
          5.18,
          5.02,
          4.43,
          4.87,
          4.49,
          6.05,
          5.44,
          9.03,
          4.94,
          5.55,
          6.08,
          5.37,
          3.96,
          4.45,
          6.68,
          5.29,
          4.72,
          5.04,
          6.13,
          5.9,
          4.27,
          4.43,
          5.42,
          5.38,
          5.48,
          5.05,
          4.56,
          2.86,
          5.29,
          4.73,
          6.42,
          5.88,
          4.07,
          5.85,
          6.94,
          5.19,
          6.03,
          5.11,
          4.42,
          7.09,
          5.3,
          4.83,
          5.62,
          5.59,
          4.6,
          5.47,
          5.1,
          4.55,
          4.35,
          6.66,
          5.23,
          5.84,
          4.64,
          4.68,
          6.14,
          5.38,
          5.58,
          6.78,
          4.05,
          5.31,
          7.11,
          5.99,
          8.36,
          4.58,
          5.1,
          5.88,
          6.81,
          5.91,
          7.01,
          6.41,
          6.33,
          7.41,
          6.54,
          5.95,
          4.73,
          5.26,
          5.43,
          6.97,
          4.94,
          6.76,
          6.24,
          6.56,
          3.25,
          4.96,
          6.59,
          6.04,
          6.04,
          5.41,
          5.69,
          4.33,
          7.04,
          5.9,
          6.98,
          7.8,
          6.17,
          4.26,
          6.38,
          5.16,
          6.65,
          6.97,
          5.48,
          4.82,
          6.03,
          5.62,
          4.95,
          4.91,
          5.55,
          5.47,
          6.77,
          5.05,
          5.86,
          4.43,
          7.67,
          5.88,
          6.02,
          5.45,
          5.5,
          3.87,
          5.1,
          6.06,
          8.46,
          5.93,
          5.1,
          6.66,
          5.06,
          7.08,
          6.9,
          4.9,
          6.25,
          5.51,
          3.53,
          6.71,
          7.43,
          7.32,
          6.38,
          4.9,
          4.56,
          5,
          6.94,
          6.79,
          5.34,
          6.55,
          5.81,
          7.12,
          7.45,
          4.59,
          6.08,
          6.88,
          3.96,
          7.58,
          6,
          5.76,
          6.79,
          5.08
         ],
         "z": [
          106,
          74,
          86,
          80,
          76,
          111,
          70,
          109,
          83,
          81,
          78,
          79,
          78,
          65,
          63,
          71,
          90,
          102,
          112,
          105,
          103,
          78,
          75,
          71,
          91,
          80,
          85,
          62,
          95,
          83,
          89,
          93,
          95,
          84,
          99,
          88,
          81,
          90,
          82,
          82,
          66,
          89,
          65,
          71,
          88,
          88,
          93,
          69,
          75,
          96,
          96,
          79,
          97,
          68,
          93,
          83,
          100,
          81,
          113,
          72,
          94,
          84,
          74,
          90,
          95,
          82,
          88,
          70,
          86,
          84,
          85,
          99,
          103,
          90,
          63,
          67,
          96,
          87,
          80,
          89,
          79,
          81,
          73,
          77,
          98,
          73,
          93,
          82,
          72,
          103,
          77,
          94,
          88,
          87,
          76,
          92,
          88,
          91,
          82,
          98,
          72,
          90,
          86,
          72,
          78,
          87,
          74,
          83,
          83,
          95,
          85,
          88,
          93,
          54,
          86,
          108,
          80,
          79,
          114,
          95,
          97,
          81,
          64,
          84,
          72,
          90,
          84,
          84,
          74,
          108,
          67,
          83,
          105,
          95,
          88,
          100,
          94,
          82,
          101,
          94,
          71,
          105,
          74,
          85,
          83,
          99,
          89,
          87,
          71,
          72,
          82,
          84,
          91,
          102,
          84,
          113,
          106,
          78,
          96,
          90,
          101,
          69,
          75,
          96,
          81,
          97,
          79,
          88,
          60,
          74,
          87,
          89,
          96,
          86,
          66,
          98,
          90,
          74,
          87,
          80,
          83,
          87,
          81,
          98,
          114,
          85,
          84,
          92,
          98,
          73,
          106,
          87,
          99,
          76,
          92,
          83,
          89,
          57,
          67,
          106,
          77,
          72,
          91,
          82,
          103,
          99,
          89,
          86,
          81,
          81,
          85,
          93,
          81,
          86,
          96,
          77,
          84,
          89,
          74,
          8,
          73,
          82,
          80,
          100,
          94,
          73,
          106,
          70,
          74,
          94,
          64,
          90,
          119,
          103,
          107,
          86,
          76,
          105,
          85,
          89,
          92,
          88,
          73,
          94,
          71,
          80,
          83,
          65,
          105,
          80,
          86,
          82,
          90,
          95,
          71,
          103,
          91,
          94,
          106,
          110,
          65,
          74,
          74,
          99,
          60,
          93,
          70,
          67,
          78,
          86,
          91,
          75,
          83,
          108,
          98,
          91,
          92,
          74,
          107,
          75,
          88,
          64,
          74,
          69,
          95,
          80,
          70,
          89,
          83,
          78,
          81,
          107,
          81,
          73,
          91,
          78,
          78,
          78,
          72,
          82,
          73,
          89,
          111,
          76,
          88,
          100,
          97,
          88,
          100,
          89,
          74,
          63,
          83,
          90,
          127,
          90,
          103,
          60,
          53,
          71,
          66,
          52,
          73,
          76,
          70,
          68,
          71,
          81,
          78,
          50,
          56,
          67,
          86,
          97,
          75,
          65,
          90,
          53,
          61,
          78,
          75,
          64,
          64,
          67,
          67,
          61,
          95,
          74,
          68,
          67,
          77,
          69,
          75,
          72,
          83,
          76,
          54,
          69,
          100,
          85,
          69,
          60,
          68,
          61,
          75,
          72,
          88,
          105,
          68,
          64,
          65,
          71,
          67,
          64,
          54,
          64,
          73,
          69,
          64,
          58,
          73,
          68,
          70,
          71,
          76,
          50,
          74,
          64,
          69,
          62,
          61,
          63,
          74,
          53,
          72,
          85,
          69,
          90,
          86,
          94,
          66,
          64,
          70,
          78,
          67,
          54,
          72,
          64,
          86,
          71,
          62,
          67,
          92,
          78,
          62,
          75,
          56,
          74,
          76,
          70,
          70,
          70,
          41,
          85,
          66,
          61,
          77,
          64,
          67,
          74,
          67,
          66,
          52,
          53,
          74,
          83,
          75,
          83,
          69,
          77,
          68,
          77,
          76,
          84,
          64,
          70,
          69,
          68,
          55,
          72,
          72,
          60,
          77,
          70,
          82,
          83,
          86,
          70,
          65,
          69,
          85,
          75,
          75,
          88,
          72,
          66,
          65,
          67,
          66,
          70,
          56,
          74,
          72,
          62,
          81,
          62,
          68,
          58,
          66,
          69,
          67,
          71,
          66,
          69,
          73,
          66,
          66,
          67,
          65,
          55,
          64,
          72,
          69,
          61,
          59,
          68,
          71,
          68,
          63,
          68,
          62,
          60,
          40,
          70,
          61,
          70,
          63,
          58,
          70,
          77,
          68,
          78,
          103,
          65,
          71,
          54,
          59,
          91,
          62,
          66,
          63,
          56,
          63,
          52,
          59,
          62
         ]
        },
        {
         "hovertemplate": "Category=Suspect Blood Donor<br>Age=%{x}<br>Cholesterol=%{y}<br>Creatinine=%{z}<br>PROT_scaled=%{marker.size}<extra></extra>",
         "legendgroup": "Suspect Blood Donor",
         "marker": {
          "color": "#EF553B",
          "size": [
           69.00000000000003,
           15,
           0,
           167.5,
           11.000000000000014,
           15,
           41.50000000000002
          ],
          "sizemode": "area",
          "sizeref": 0.52125,
          "symbol": "circle"
         },
         "mode": "markers",
         "name": "Suspect Blood Donor",
         "scene": "scene",
         "showlegend": true,
         "type": "scatter3d",
         "x": [
          47,
          48,
          49,
          55,
          71,
          74,
          59
         ],
         "y": [
          4.3,
          5.25,
          3.01,
          8.08,
          2.61,
          3.19,
          4.72
         ],
         "z": [
          170,
          29,
          64,
          76,
          9,
          52,
          32
         ]
        },
        {
         "hovertemplate": "Category=Hepatitis<br>Age=%{x}<br>Cholesterol=%{y}<br>Creatinine=%{z}<br>PROT_scaled=%{marker.size}<extra></extra>",
         "legendgroup": "Hepatitis",
         "marker": {
          "color": "#00cc96",
          "size": [
           126.49999999999999,
           128.5,
           148.5,
           186.5,
           131.5,
           134,
           156,
           130.50000000000006,
           131.5,
           155,
           140,
           139.50000000000003,
           137.5,
           159.50000000000003,
           162.5,
           103.99999999999999,
           167.00000000000003,
           188.00000000000006,
           126.49999999999999,
           206
          ],
          "sizemode": "area",
          "sizeref": 0.52125,
          "symbol": "circle"
         },
         "mode": "markers",
         "name": "Hepatitis",
         "scene": "scene",
         "showlegend": true,
         "type": "scatter3d",
         "x": [
          23,
          25,
          27,
          32,
          32,
          34,
          35,
          36,
          38,
          41,
          44,
          46,
          50,
          51,
          56,
          58,
          33,
          41,
          50,
          61
         ],
         "y": [
          3.2,
          4.28,
          3.2,
          6.28,
          5.48,
          5.37,
          4.14,
          5.73,
          4.89,
          9.67,
          4.07,
          4.65,
          7.04,
          5.23,
          3.09,
          6.15,
          5.72,
          5.3,
          4.67,
          4.62
         ],
         "z": [
          79.3,
          66.9,
          55.2,
          81.2,
          45.4,
          82.3,
          69.2,
          68.6,
          81.8,
          57.7,
          81.5,
          66.4,
          75.3,
          76.2,
          97.7,
          147.3,
          58.8,
          60.8,
          56.6,
          61.9
         ]
        },
        {
         "hovertemplate": "Category=Fibrosis<br>Age=%{x}<br>Cholesterol=%{y}<br>Creatinine=%{z}<br>PROT_scaled=%{marker.size}<extra></extra>",
         "legendgroup": "Fibrosis",
         "marker": {
          "color": "#ab63fa",
          "size": [
           108.50000000000001,
           182.5,
           141,
           137.5,
           171.5,
           180.50000000000006,
           124.50000000000003,
           110,
           145.50000000000006,
           158.5,
           186,
           156.5
          ],
          "sizemode": "area",
          "sizeref": 0.52125,
          "symbol": "circle"
         },
         "mode": "markers",
         "name": "Fibrosis",
         "scene": "scene",
         "showlegend": true,
         "type": "scatter3d",
         "x": [
          29,
          40,
          46,
          48,
          54,
          57,
          59,
          64,
          36,
          38,
          57,
          68
         ],
         "y": [
          5.42,
          4.2,
          4.01,
          4.22,
          5.85,
          4.64,
          4.45,
          4.52,
          4.81,
          4.31,
          6.19,
          4.89
         ],
         "z": [
          55.2,
          70.9,
          60.5,
          76.7,
          91,
          70.9,
          65,
          70,
          65.3,
          60.5,
          71.4,
          80.9
         ]
        },
        {
         "hovertemplate": "Category=Cirrhosis<br>Age=%{x}<br>Cholesterol=%{y}<br>Creatinine=%{z}<br>PROT_scaled=%{marker.size}<extra></extra>",
         "legendgroup": "Cirrhosis",
         "marker": {
          "color": "#FFA15A",
          "size": [
           63.500000000000014,
           135,
           118.99999999999999,
           126.00000000000001,
           121.49999999999999,
           173.00000000000006,
           87.5,
           102.5,
           90,
           47.00000000000003,
           166.5,
           150,
           79.00000000000003,
           118.50000000000001,
           143.00000000000006,
           61.50000000000002,
           125.50000000000004,
           68.50000000000001,
           189.50000000000003,
           179,
           128.5,
           118.50000000000001,
           132.5,
           186
          ],
          "sizemode": "area",
          "sizeref": 0.52125,
          "symbol": "circle"
         },
         "mode": "markers",
         "name": "Cirrhosis",
         "scene": "scene",
         "showlegend": true,
         "type": "scatter3d",
         "x": [
          39,
          41,
          42,
          45,
          46,
          51,
          51,
          56,
          56,
          56,
          58,
          59,
          59,
          59,
          61,
          74,
          42,
          49,
          52,
          58,
          59,
          62,
          64,
          64
         ],
         "y": [
          4.82,
          5.34,
          3.93,
          3.71,
          4.1,
          3.6,
          4.08,
          3.54,
          2.4,
          1.43,
          3.92,
          3.68,
          3.61,
          3.51,
          4.88,
          3.29,
          5.16,
          3.82,
          3.78,
          3.98,
          4.51,
          6.3,
          3.02,
          3.63
         ],
         "z": [
          519,
          106.4,
          49.6,
          76.7,
          1079.1,
          58.3,
          75.9,
          66.9,
          62.7,
          79.3,
          66.4,
          118.2,
          71.7,
          60.5,
          72.3,
          51,
          89.1,
          485.9,
          158.2,
          56,
          136.1,
          55.7,
          63,
          66.7
         ]
        }
       ],
       "layout": {
        "autosize": true,
        "legend": {
         "itemsizing": "constant",
         "title": {
          "text": "Category"
         },
         "tracegroupgap": 0
        },
        "scene": {
         "aspectmode": "auto",
         "aspectratio": {
          "x": 1,
          "y": 1,
          "z": 1
         },
         "domain": {
          "x": [
           0,
           1
          ],
          "y": [
           0,
           1
          ]
         },
         "xaxis": {
          "title": {
           "text": "Age"
          },
          "type": "linear"
         },
         "yaxis": {
          "title": {
           "text": "Cholesterol"
          },
          "type": "linear"
         },
         "zaxis": {
          "title": {
           "text": "Creatinine"
          },
          "type": "linear"
         }
        },
        "template": {
         "data": {
          "bar": [
           {
            "error_x": {
             "color": "#2a3f5f"
            },
            "error_y": {
             "color": "#2a3f5f"
            },
            "marker": {
             "line": {
              "color": "#E5ECF6",
              "width": 0.5
             },
             "pattern": {
              "fillmode": "overlay",
              "size": 10,
              "solidity": 0.2
             }
            },
            "type": "bar"
           }
          ],
          "barpolar": [
           {
            "marker": {
             "line": {
              "color": "#E5ECF6",
              "width": 0.5
             },
             "pattern": {
              "fillmode": "overlay",
              "size": 10,
              "solidity": 0.2
             }
            },
            "type": "barpolar"
           }
          ],
          "carpet": [
           {
            "aaxis": {
             "endlinecolor": "#2a3f5f",
             "gridcolor": "white",
             "linecolor": "white",
             "minorgridcolor": "white",
             "startlinecolor": "#2a3f5f"
            },
            "baxis": {
             "endlinecolor": "#2a3f5f",
             "gridcolor": "white",
             "linecolor": "white",
             "minorgridcolor": "white",
             "startlinecolor": "#2a3f5f"
            },
            "type": "carpet"
           }
          ],
          "choropleth": [
           {
            "colorbar": {
             "outlinewidth": 0,
             "ticks": ""
            },
            "type": "choropleth"
           }
          ],
          "contour": [
           {
            "colorbar": {
             "outlinewidth": 0,
             "ticks": ""
            },
            "colorscale": [
             [
              0,
              "#0d0887"
             ],
             [
              0.1111111111111111,
              "#46039f"
             ],
             [
              0.2222222222222222,
              "#7201a8"
             ],
             [
              0.3333333333333333,
              "#9c179e"
             ],
             [
              0.4444444444444444,
              "#bd3786"
             ],
             [
              0.5555555555555556,
              "#d8576b"
             ],
             [
              0.6666666666666666,
              "#ed7953"
             ],
             [
              0.7777777777777778,
              "#fb9f3a"
             ],
             [
              0.8888888888888888,
              "#fdca26"
             ],
             [
              1,
              "#f0f921"
             ]
            ],
            "type": "contour"
           }
          ],
          "contourcarpet": [
           {
            "colorbar": {
             "outlinewidth": 0,
             "ticks": ""
            },
            "type": "contourcarpet"
           }
          ],
          "heatmap": [
           {
            "colorbar": {
             "outlinewidth": 0,
             "ticks": ""
            },
            "colorscale": [
             [
              0,
              "#0d0887"
             ],
             [
              0.1111111111111111,
              "#46039f"
             ],
             [
              0.2222222222222222,
              "#7201a8"
             ],
             [
              0.3333333333333333,
              "#9c179e"
             ],
             [
              0.4444444444444444,
              "#bd3786"
             ],
             [
              0.5555555555555556,
              "#d8576b"
             ],
             [
              0.6666666666666666,
              "#ed7953"
             ],
             [
              0.7777777777777778,
              "#fb9f3a"
             ],
             [
              0.8888888888888888,
              "#fdca26"
             ],
             [
              1,
              "#f0f921"
             ]
            ],
            "type": "heatmap"
           }
          ],
          "heatmapgl": [
           {
            "colorbar": {
             "outlinewidth": 0,
             "ticks": ""
            },
            "colorscale": [
             [
              0,
              "#0d0887"
             ],
             [
              0.1111111111111111,
              "#46039f"
             ],
             [
              0.2222222222222222,
              "#7201a8"
             ],
             [
              0.3333333333333333,
              "#9c179e"
             ],
             [
              0.4444444444444444,
              "#bd3786"
             ],
             [
              0.5555555555555556,
              "#d8576b"
             ],
             [
              0.6666666666666666,
              "#ed7953"
             ],
             [
              0.7777777777777778,
              "#fb9f3a"
             ],
             [
              0.8888888888888888,
              "#fdca26"
             ],
             [
              1,
              "#f0f921"
             ]
            ],
            "type": "heatmapgl"
           }
          ],
          "histogram": [
           {
            "marker": {
             "pattern": {
              "fillmode": "overlay",
              "size": 10,
              "solidity": 0.2
             }
            },
            "type": "histogram"
           }
          ],
          "histogram2d": [
           {
            "colorbar": {
             "outlinewidth": 0,
             "ticks": ""
            },
            "colorscale": [
             [
              0,
              "#0d0887"
             ],
             [
              0.1111111111111111,
              "#46039f"
             ],
             [
              0.2222222222222222,
              "#7201a8"
             ],
             [
              0.3333333333333333,
              "#9c179e"
             ],
             [
              0.4444444444444444,
              "#bd3786"
             ],
             [
              0.5555555555555556,
              "#d8576b"
             ],
             [
              0.6666666666666666,
              "#ed7953"
             ],
             [
              0.7777777777777778,
              "#fb9f3a"
             ],
             [
              0.8888888888888888,
              "#fdca26"
             ],
             [
              1,
              "#f0f921"
             ]
            ],
            "type": "histogram2d"
           }
          ],
          "histogram2dcontour": [
           {
            "colorbar": {
             "outlinewidth": 0,
             "ticks": ""
            },
            "colorscale": [
             [
              0,
              "#0d0887"
             ],
             [
              0.1111111111111111,
              "#46039f"
             ],
             [
              0.2222222222222222,
              "#7201a8"
             ],
             [
              0.3333333333333333,
              "#9c179e"
             ],
             [
              0.4444444444444444,
              "#bd3786"
             ],
             [
              0.5555555555555556,
              "#d8576b"
             ],
             [
              0.6666666666666666,
              "#ed7953"
             ],
             [
              0.7777777777777778,
              "#fb9f3a"
             ],
             [
              0.8888888888888888,
              "#fdca26"
             ],
             [
              1,
              "#f0f921"
             ]
            ],
            "type": "histogram2dcontour"
           }
          ],
          "mesh3d": [
           {
            "colorbar": {
             "outlinewidth": 0,
             "ticks": ""
            },
            "type": "mesh3d"
           }
          ],
          "parcoords": [
           {
            "line": {
             "colorbar": {
              "outlinewidth": 0,
              "ticks": ""
             }
            },
            "type": "parcoords"
           }
          ],
          "pie": [
           {
            "automargin": true,
            "type": "pie"
           }
          ],
          "scatter": [
           {
            "fillpattern": {
             "fillmode": "overlay",
             "size": 10,
             "solidity": 0.2
            },
            "type": "scatter"
           }
          ],
          "scatter3d": [
           {
            "line": {
             "colorbar": {
              "outlinewidth": 0,
              "ticks": ""
             }
            },
            "marker": {
             "colorbar": {
              "outlinewidth": 0,
              "ticks": ""
             }
            },
            "type": "scatter3d"
           }
          ],
          "scattercarpet": [
           {
            "marker": {
             "colorbar": {
              "outlinewidth": 0,
              "ticks": ""
             }
            },
            "type": "scattercarpet"
           }
          ],
          "scattergeo": [
           {
            "marker": {
             "colorbar": {
              "outlinewidth": 0,
              "ticks": ""
             }
            },
            "type": "scattergeo"
           }
          ],
          "scattergl": [
           {
            "marker": {
             "colorbar": {
              "outlinewidth": 0,
              "ticks": ""
             }
            },
            "type": "scattergl"
           }
          ],
          "scattermapbox": [
           {
            "marker": {
             "colorbar": {
              "outlinewidth": 0,
              "ticks": ""
             }
            },
            "type": "scattermapbox"
           }
          ],
          "scatterpolar": [
           {
            "marker": {
             "colorbar": {
              "outlinewidth": 0,
              "ticks": ""
             }
            },
            "type": "scatterpolar"
           }
          ],
          "scatterpolargl": [
           {
            "marker": {
             "colorbar": {
              "outlinewidth": 0,
              "ticks": ""
             }
            },
            "type": "scatterpolargl"
           }
          ],
          "scatterternary": [
           {
            "marker": {
             "colorbar": {
              "outlinewidth": 0,
              "ticks": ""
             }
            },
            "type": "scatterternary"
           }
          ],
          "surface": [
           {
            "colorbar": {
             "outlinewidth": 0,
             "ticks": ""
            },
            "colorscale": [
             [
              0,
              "#0d0887"
             ],
             [
              0.1111111111111111,
              "#46039f"
             ],
             [
              0.2222222222222222,
              "#7201a8"
             ],
             [
              0.3333333333333333,
              "#9c179e"
             ],
             [
              0.4444444444444444,
              "#bd3786"
             ],
             [
              0.5555555555555556,
              "#d8576b"
             ],
             [
              0.6666666666666666,
              "#ed7953"
             ],
             [
              0.7777777777777778,
              "#fb9f3a"
             ],
             [
              0.8888888888888888,
              "#fdca26"
             ],
             [
              1,
              "#f0f921"
             ]
            ],
            "type": "surface"
           }
          ],
          "table": [
           {
            "cells": {
             "fill": {
              "color": "#EBF0F8"
             },
             "line": {
              "color": "white"
             }
            },
            "header": {
             "fill": {
              "color": "#C8D4E3"
             },
             "line": {
              "color": "white"
             }
            },
            "type": "table"
           }
          ]
         },
         "layout": {
          "annotationdefaults": {
           "arrowcolor": "#2a3f5f",
           "arrowhead": 0,
           "arrowwidth": 1
          },
          "autotypenumbers": "strict",
          "coloraxis": {
           "colorbar": {
            "outlinewidth": 0,
            "ticks": ""
           }
          },
          "colorscale": {
           "diverging": [
            [
             0,
             "#8e0152"
            ],
            [
             0.1,
             "#c51b7d"
            ],
            [
             0.2,
             "#de77ae"
            ],
            [
             0.3,
             "#f1b6da"
            ],
            [
             0.4,
             "#fde0ef"
            ],
            [
             0.5,
             "#f7f7f7"
            ],
            [
             0.6,
             "#e6f5d0"
            ],
            [
             0.7,
             "#b8e186"
            ],
            [
             0.8,
             "#7fbc41"
            ],
            [
             0.9,
             "#4d9221"
            ],
            [
             1,
             "#276419"
            ]
           ],
           "sequential": [
            [
             0,
             "#0d0887"
            ],
            [
             0.1111111111111111,
             "#46039f"
            ],
            [
             0.2222222222222222,
             "#7201a8"
            ],
            [
             0.3333333333333333,
             "#9c179e"
            ],
            [
             0.4444444444444444,
             "#bd3786"
            ],
            [
             0.5555555555555556,
             "#d8576b"
            ],
            [
             0.6666666666666666,
             "#ed7953"
            ],
            [
             0.7777777777777778,
             "#fb9f3a"
            ],
            [
             0.8888888888888888,
             "#fdca26"
            ],
            [
             1,
             "#f0f921"
            ]
           ],
           "sequentialminus": [
            [
             0,
             "#0d0887"
            ],
            [
             0.1111111111111111,
             "#46039f"
            ],
            [
             0.2222222222222222,
             "#7201a8"
            ],
            [
             0.3333333333333333,
             "#9c179e"
            ],
            [
             0.4444444444444444,
             "#bd3786"
            ],
            [
             0.5555555555555556,
             "#d8576b"
            ],
            [
             0.6666666666666666,
             "#ed7953"
            ],
            [
             0.7777777777777778,
             "#fb9f3a"
            ],
            [
             0.8888888888888888,
             "#fdca26"
            ],
            [
             1,
             "#f0f921"
            ]
           ]
          },
          "colorway": [
           "#636efa",
           "#EF553B",
           "#00cc96",
           "#ab63fa",
           "#FFA15A",
           "#19d3f3",
           "#FF6692",
           "#B6E880",
           "#FF97FF",
           "#FECB52"
          ],
          "font": {
           "color": "#2a3f5f"
          },
          "geo": {
           "bgcolor": "white",
           "lakecolor": "white",
           "landcolor": "#E5ECF6",
           "showlakes": true,
           "showland": true,
           "subunitcolor": "white"
          },
          "hoverlabel": {
           "align": "left"
          },
          "hovermode": "closest",
          "mapbox": {
           "style": "light"
          },
          "paper_bgcolor": "white",
          "plot_bgcolor": "#E5ECF6",
          "polar": {
           "angularaxis": {
            "gridcolor": "white",
            "linecolor": "white",
            "ticks": ""
           },
           "bgcolor": "#E5ECF6",
           "radialaxis": {
            "gridcolor": "white",
            "linecolor": "white",
            "ticks": ""
           }
          },
          "scene": {
           "xaxis": {
            "backgroundcolor": "#E5ECF6",
            "gridcolor": "white",
            "gridwidth": 2,
            "linecolor": "white",
            "showbackground": true,
            "ticks": "",
            "zerolinecolor": "white"
           },
           "yaxis": {
            "backgroundcolor": "#E5ECF6",
            "gridcolor": "white",
            "gridwidth": 2,
            "linecolor": "white",
            "showbackground": true,
            "ticks": "",
            "zerolinecolor": "white"
           },
           "zaxis": {
            "backgroundcolor": "#E5ECF6",
            "gridcolor": "white",
            "gridwidth": 2,
            "linecolor": "white",
            "showbackground": true,
            "ticks": "",
            "zerolinecolor": "white"
           }
          },
          "shapedefaults": {
           "line": {
            "color": "#2a3f5f"
           }
          },
          "ternary": {
           "aaxis": {
            "gridcolor": "white",
            "linecolor": "white",
            "ticks": ""
           },
           "baxis": {
            "gridcolor": "white",
            "linecolor": "white",
            "ticks": ""
           },
           "bgcolor": "#E5ECF6",
           "caxis": {
            "gridcolor": "white",
            "linecolor": "white",
            "ticks": ""
           }
          },
          "title": {
           "x": 0.05
          },
          "xaxis": {
           "automargin": true,
           "gridcolor": "white",
           "linecolor": "white",
           "ticks": "",
           "title": {
            "standoff": 15
           },
           "zerolinecolor": "white",
           "zerolinewidth": 2
          },
          "yaxis": {
           "automargin": true,
           "gridcolor": "white",
           "linecolor": "white",
           "ticks": "",
           "title": {
            "standoff": 15
           },
           "zerolinecolor": "white",
           "zerolinewidth": 2
          }
         }
        },
        "title": {
         "text": "Age vs Cholesterol vs Creatinine (Bubble = Protein Level)"
        }
       }
      },
      "text/html": [
       "<div>                            <div id=\"00ec0a15-9872-4693-a43a-fa9e54a4eb4f\" class=\"plotly-graph-div\" style=\"height:525px; width:100%;\"></div>            <script type=\"text/javascript\">                require([\"plotly\"], function(Plotly) {                    window.PLOTLYENV=window.PLOTLYENV || {};                                    if (document.getElementById(\"00ec0a15-9872-4693-a43a-fa9e54a4eb4f\")) {                    Plotly.newPlot(                        \"00ec0a15-9872-4693-a43a-fa9e54a4eb4f\",                        [{\"hovertemplate\":\"Category=Blood Donor\\u003cbr\\u003eAge=%{x}\\u003cbr\\u003eCholesterol=%{y}\\u003cbr\\u003eCreatinine=%{z}\\u003cbr\\u003ePROT_scaled=%{marker.size}\\u003cextra\\u003e\\u003c\\u002fextra\\u003e\",\"legendgroup\":\"Blood Donor\",\"marker\":{\"color\":\"#636efa\",\"size\":[121.00000000000001,158.5,172.5,154.50000000000003,119.50000000000003,146.0,148.5,111.49999999999999,132.5,125.50000000000004,153.00000000000006,118.99999999999999,119.50000000000003,128.00000000000006,135.50000000000006,139.50000000000003,138.00000000000006,158.5,122.5,116.49999999999999,146.0,147.5,121.49999999999999,123.99999999999999,136.0,170.50000000000006,114.50000000000003,42.00000000000003,135.50000000000006,141.5,132.5,169.50000000000003,122.5,131.0,144.0,161.5,132.5,155.0,165.0,112.00000000000003,146.0,162.5,179.50000000000003,174.0,134.0,122.5,130.0,143.00000000000006,162.5,157.00000000000003,131.0,145.0,175.50000000000006,137.5,143.00000000000006,158.5,122.5,179.0,138.5,57.5,157.5,133.5,141.5,151.0,149.50000000000003,122.5,136.0,152.00000000000003,170.50000000000006,151.5,141.5,141.5,156.5,145.50000000000006,113.00000000000004,126.49999999999999,109.50000000000003,189.0,116.49999999999999,154.0,132.00000000000003,162.00000000000003,168.00000000000006,107.5,107.00000000000003,152.00000000000003,128.5,170.50000000000006,141.5,137.00000000000003,153.5,131.5,145.50000000000006,132.00000000000003,138.5,146.5,120.0,181.5,159.0,152.5,151.5,96.49999999999999,156.5,132.5,142.5,193.00000000000006,136.5,135.50000000000006,138.00000000000006,141.0,130.0,135.0,141.5,136.5,145.0,96.49999999999999,163.5,118.00000000000004,177.5,172.5,147.00000000000003,135.0,154.0,137.00000000000003,140.50000000000006,153.00000000000006,148.5,160.50000000000006,144.0,160.0,130.50000000000006,116.00000000000001,152.5,146.0,93.0,132.00000000000003,122.00000000000003,129.0,157.00000000000003,108.99999999999999,127.5,148.5,112.00000000000003,153.5,132.5,170.0,144.50000000000003,86.50000000000003,112.00000000000003,114.50000000000003,101.00000000000001,152.00000000000003,175.0,127.00000000000003,142.00000000000003,120.0,152.00000000000003,125.50000000000004,157.5,177.5,162.00000000000003,140.50000000000006,138.00000000000006,108.00000000000004,116.49999999999999,163.5,123.50000000000001,141.0,153.00000000000006,121.49999999999999,117.5,166.0,186.5,183.5,155.0,135.0,150.50000000000006,151.0,110.0,120.50000000000004,146.5,146.5,165.0,192.5,140.50000000000006,125.0,103.00000000000004,119.50000000000003,125.0,137.5,133.00000000000006,130.0,173.5,131.0,159.50000000000003,108.99999999999999,147.00000000000003,111.00000000000001,128.5,142.00000000000003,122.00000000000003,138.5,120.50000000000004,105.0,141.5,108.00000000000004,100.50000000000004,134.0,165.0,161.5,141.0,177.5,145.50000000000006,164.0,140.50000000000006,113.00000000000004,98.00000000000004,142.5,153.00000000000006,97.00000000000003,180.50000000000006,118.50000000000001,174.0,144.0,131.5,169.0,142.00000000000003,136.0,155.0,102.00000000000003,153.00000000000006,132.5,115.50000000000004,125.50000000000004,165.0,172.5,160.0,155.50000000000006,152.00000000000003,115.50000000000004,138.00000000000006,164.50000000000003,141.0,126.49999999999999,107.5,137.00000000000003,159.50000000000003,88.0,139.50000000000003,125.50000000000004,138.5,146.5,156.0,111.49999999999999,126.49999999999999,135.50000000000006,123.99999999999999,148.5,164.0,135.0,132.5,163.5,155.0,138.00000000000006,126.49999999999999,130.50000000000006,168.5,149.0,121.00000000000001,135.50000000000006,98.50000000000001,164.0,168.5,96.49999999999999,134.0,110.50000000000004,126.00000000000001,133.5,135.50000000000006,148.00000000000006,130.0,147.00000000000003,156.0,174.0,133.00000000000006,136.0,208.5,100.0,165.0,139.50000000000003,144.50000000000003,122.5,129.50000000000003,106.00000000000001,119.50000000000003,147.5,117.00000000000003,133.5,161.0,154.50000000000003,97.5,153.5,159.50000000000003,135.0,141.5,144.0,113.50000000000001,150.0,128.00000000000006,153.5,147.00000000000003,60.50000000000001,144.50000000000003,125.0,66.50000000000003,145.0,112.00000000000003,138.5,120.50000000000004,156.5,106.49999999999999,136.0,145.0,136.0,128.5,110.50000000000004,151.0,167.5,133.5,142.5,125.50000000000004,133.00000000000006,129.50000000000003,135.50000000000006,97.00000000000003,147.5,179.0,174.50000000000003,133.5,156.5,125.50000000000004,140.0,128.00000000000006,135.50000000000006,96.49999999999999,135.0,179.50000000000003,172.5,158.00000000000006,153.5,168.5,181.0,140.0,129.50000000000003,143.00000000000006,121.00000000000001,131.0,162.5,162.5,108.99999999999999,146.0,116.49999999999999,137.5,162.5,143.5,141.5,142.00000000000003,145.50000000000006,140.0,141.0,135.50000000000006,161.5,144.50000000000003,103.50000000000001,187.5,136.5,111.49999999999999,142.00000000000003,130.50000000000006,141.5,148.00000000000006,117.00000000000003,140.0,118.00000000000004,129.50000000000003,107.5,148.00000000000006,102.00000000000003,128.5,163.5,123.00000000000004,139.50000000000003,116.00000000000001,114.50000000000003,113.50000000000001,137.00000000000003,125.50000000000004,128.5,118.00000000000004,161.5,126.49999999999999,123.99999999999999,108.99999999999999,138.00000000000006,121.00000000000001,133.5,123.50000000000001,136.0,158.00000000000006,99.50000000000003,125.0,152.00000000000003,126.00000000000001,139.50000000000003,161.5,106.00000000000001,115.0,111.00000000000001,114.50000000000003,107.00000000000003,136.5,134.50000000000003,103.99999999999999,163.00000000000006,129.0,115.50000000000004,155.0,141.5,147.00000000000003,141.5,132.00000000000003,92.00000000000003,129.50000000000003,145.50000000000006,116.49999999999999,147.5,142.00000000000003,88.50000000000001,167.00000000000003,160.50000000000006,118.00000000000004,143.5,120.0,132.00000000000003,117.00000000000003,127.00000000000003,167.5,129.0,127.00000000000003,135.50000000000006,121.00000000000001,135.50000000000006,137.00000000000003,138.00000000000006,142.5,140.50000000000006,131.0,152.00000000000003,128.5,138.00000000000006,122.00000000000003,161.5,113.00000000000004,187.00000000000003,107.5,126.00000000000001,131.5,130.50000000000006,130.0,149.0,160.50000000000006,122.00000000000003,162.5,118.50000000000001,151.0,161.5,129.50000000000003,61.000000000000014,135.50000000000006,105.0,142.5,152.00000000000003,127.5,78.50000000000001,142.5,112.00000000000003,139.0,123.00000000000004,131.0,91.50000000000003,109.50000000000003,111.49999999999999,154.50000000000003,150.0,130.50000000000006,88.50000000000001,122.5,129.50000000000003,141.5,118.50000000000001,135.50000000000006,128.00000000000006,31.000000000000014,159.0,153.00000000000006,130.50000000000006,135.50000000000006,134.50000000000003,135.0,161.0,159.0,140.0,133.5,170.50000000000006,125.50000000000004,115.0,103.00000000000004,147.5,148.5,101.00000000000001,60.50000000000001,105.0,143.00000000000006,97.00000000000003,120.50000000000004,102.5],\"sizemode\":\"area\",\"sizeref\":0.52125,\"symbol\":\"circle\"},\"mode\":\"markers\",\"name\":\"Blood Donor\",\"scene\":\"scene\",\"showlegend\":true,\"x\":[32,32,32,32,32,32,32,32,32,32,32,33,33,33,33,33,33,33,33,33,33,33,34,34,34,34,34,34,34,34,34,34,34,35,35,35,35,35,35,35,35,35,35,36,36,36,36,36,36,36,36,36,36,37,37,37,37,37,37,37,37,37,37,37,37,37,37,37,37,37,38,38,38,38,38,38,38,38,38,38,39,39,39,39,39,39,39,39,39,39,39,39,40,40,40,40,40,40,40,40,41,41,41,41,41,41,41,41,42,42,42,42,42,42,42,42,42,43,43,43,43,43,43,43,43,43,43,44,44,44,44,44,44,44,44,44,44,45,45,45,45,45,45,45,45,45,46,46,46,46,46,46,46,46,46,46,46,46,46,46,47,47,47,47,47,47,47,47,47,47,47,47,47,48,48,48,48,48,48,48,48,48,48,48,48,49,49,49,49,49,49,49,49,50,50,50,50,50,50,50,50,50,50,50,50,51,51,51,51,51,51,51,51,52,52,52,52,52,52,52,52,52,52,52,52,53,53,53,53,53,53,53,53,53,53,54,54,54,54,54,54,55,55,55,55,55,55,55,55,55,56,56,56,56,56,56,56,56,57,57,57,57,58,58,58,58,59,59,59,59,59,59,59,59,60,60,60,60,60,60,61,61,61,61,61,62,62,62,62,63,63,63,64,64,64,64,65,65,65,65,65,65,66,66,66,66,67,67,67,68,68,70,70,71,76,76,77,32,32,32,33,33,33,33,33,33,33,33,33,33,33,33,34,34,34,34,34,34,34,35,35,35,35,35,35,35,35,35,35,36,36,36,36,37,37,37,38,38,38,38,38,38,39,39,40,40,40,40,40,41,41,41,41,41,42,42,43,43,43,43,43,43,43,43,43,44,44,44,44,44,44,44,44,44,45,45,45,45,45,45,45,45,45,46,46,46,46,46,46,46,46,46,46,46,46,47,47,47,47,47,48,48,48,48,48,48,48,48,48,48,48,48,49,49,49,49,49,49,49,49,50,50,50,50,50,50,51,51,51,51,51,51,51,51,51,51,51,51,52,52,52,52,52,52,52,52,52,53,53,53,53,53,53,53,53,53,54,54,54,54,54,55,55,55,55,56,56,56,56,56,56,56,57,57,57,57,57,57,57,57,57,58,58,58,59,59,59,60,60,60,60,60,60,61,61,62,62,62,63,63,63,64,64,65,68,70],\"y\":[3.23,4.8,5.2,4.74,4.32,6.05,4.79,4.6,4.1,4.45,3.57,4.3,5.38,3.38,4.97,4.43,5.22,5.51,5.5,4.05,5.59,4.62,5.06,3.62,4.56,5.59,6.79,4.03,5.07,4.6,5.94,4.2,4.99,5.73,4.63,7.04,4.33,3.8,5.9,4.69,6.23,5.44,4.27,5.07,4.06,5.63,4.89,7.35,5.81,5.62,4.38,5.29,5.1,5.3,6.8,6.17,3.97,6.42,4.12,4.63,6.59,4.36,5.05,4.93,5.4,5.1,4.26,4.88,5.9,4.02,3.87,7.01,5.88,5.74,3.91,4.14,4.74,7.51,5.46,6.05,5.24,6.26,6.26,4.66,4.64,5.55,4.85,4.41,6.85,8.89,4.78,8.11,6.09,4.49,6.02,6.29,4.91,4.74,6.85,5.09,6.23,4.13,3.29,4.55,5.56,5.9,4.23,5.57,5.88,6.28,6.15,7.3,4.78,6.76,5.62,5.07,8.6,4.96,5.3,5.92,5.27,4.72,7.84,4.71,9.43,5.41,4.93,4.68,5.12,4.59,6.02,6.65,5.42,6.68,4.46,5.85,4.87,7.29,5.58,5.98,5.31,6.61,4.25,6.27,5.35,6.25,6.13,5.85,4.66,5.38,4.72,5.19,7.42,5.02,5.35,4.68,3.71,6.73,4.95,7.4,5.1,5.66,5.96,4.86,5.06,5.95,5.15,5.56,5.23,4.29,4.44,6.3,5.25,6.76,6.29,5.36,6.14,5.65,4.27,6.37,5.7,6.25,5.07,8.28,6.97,4.82,4.98,5.61,5.68,4.49,5.31,4.65,6.23,6.46,5.73,5.95,6.42,4.55,5.75,6.56,4.06,5.8,6.06,5.66,8.8,4.65,6.08,6.54,5.07,4.68,5.61,5.93,4.14,7.2,6.29,6.09,5.35,6.56,5.0,4.94,5.22,4.97,6.92,6.66,4.5,7.22,4.6,5.0,4.0,4.42,8.78,6.96,5.78,6.28,6.24,5.2,6.24,5.98,7.43,5.79,7.29,7.3,7.73,5.73,4.55,6.33,4.63,4.39,4.61,5.22,6.75,6.61,5.37,5.3,6.4,4.93,4.69,6.04,3.97,5.99,4.91,5.31,6.33,5.07,5.7,6.41,4.46,4.86,3.09,3.69,6.89,4.33,5.47,5.07,5.6,6.2,5.42,5.31,4.65,6.01,4.95,4.58,7.62,5.42,5.23,5.25,5.52,3.81,5.74,6.18,4.69,6.35,6.69,6.37,6.47,7.7,5.84,4.03,5.91,6.31,6.23,4.69,4.17,5.48,6.8,6.66,7.02,6.43,5.53,6.64,4.15,3.96,4.74,6.31,2.79,5.56,4.41,4.37,3.75,4.38,5.26,5.02,3.34,5.22,4.93,5.69,5.57,4.25,4.48,3.92,3.22,6.36,4.94,4.61,5.17,5.59,6.28,5.1,4.68,5.9,4.13,5.07,4.69,4.62,4.43,4.91,5.7,4.79,5.73,5.62,4.18,5.51,5.05,5.8,4.36,3.95,5.52,6.06,3.97,3.61,5.73,4.58,5.3,4.55,5.32,4.57,6.74,5.25,4.92,6.01,4.24,4.33,5.18,5.02,4.43,4.87,4.49,6.05,5.44,9.03,4.94,5.55,6.08,5.37,3.96,4.45,6.68,5.29,4.72,5.04,6.13,5.9,4.27,4.43,5.42,5.38,5.48,5.05,4.56,2.86,5.29,4.73,6.42,5.88,4.07,5.85,6.94,5.19,6.03,5.11,4.42,7.09,5.3,4.83,5.62,5.59,4.6,5.47,5.1,4.55,4.35,6.66,5.23,5.84,4.64,4.68,6.14,5.38,5.58,6.78,4.05,5.31,7.11,5.99,8.36,4.58,5.1,5.88,6.81,5.91,7.01,6.41,6.33,7.41,6.54,5.95,4.73,5.26,5.43,6.97,4.94,6.76,6.24,6.56,3.25,4.96,6.59,6.04,6.04,5.41,5.69,4.33,7.04,5.9,6.98,7.8,6.17,4.26,6.38,5.16,6.65,6.97,5.48,4.82,6.03,5.62,4.95,4.91,5.55,5.47,6.77,5.05,5.86,4.43,7.67,5.88,6.02,5.45,5.5,3.87,5.1,6.06,8.46,5.93,5.1,6.66,5.06,7.08,6.9,4.9,6.25,5.51,3.53,6.71,7.43,7.32,6.38,4.9,4.56,5.0,6.94,6.79,5.34,6.55,5.81,7.12,7.45,4.59,6.08,6.88,3.96,7.58,6.0,5.76,6.79,5.08],\"z\":[106.0,74.0,86.0,80.0,76.0,111.0,70.0,109.0,83.0,81.0,78.0,79.0,78.0,65.0,63.0,71.0,90.0,102.0,112.0,105.0,103.0,78.0,75.0,71.0,91.0,80.0,85.0,62.0,95.0,83.0,89.0,93.0,95.0,84.0,99.0,88.0,81.0,90.0,82.0,82.0,66.0,89.0,65.0,71.0,88.0,88.0,93.0,69.0,75.0,96.0,96.0,79.0,97.0,68.0,93.0,83.0,100.0,81.0,113.0,72.0,94.0,84.0,74.0,90.0,95.0,82.0,88.0,70.0,86.0,84.0,85.0,99.0,103.0,90.0,63.0,67.0,96.0,87.0,80.0,89.0,79.0,81.0,73.0,77.0,98.0,73.0,93.0,82.0,72.0,103.0,77.0,94.0,88.0,87.0,76.0,92.0,88.0,91.0,82.0,98.0,72.0,90.0,86.0,72.0,78.0,87.0,74.0,83.0,83.0,95.0,85.0,88.0,93.0,54.0,86.0,108.0,80.0,79.0,114.0,95.0,97.0,81.0,64.0,84.0,72.0,90.0,84.0,84.0,74.0,108.0,67.0,83.0,105.0,95.0,88.0,100.0,94.0,82.0,101.0,94.0,71.0,105.0,74.0,85.0,83.0,99.0,89.0,87.0,71.0,72.0,82.0,84.0,91.0,102.0,84.0,113.0,106.0,78.0,96.0,90.0,101.0,69.0,75.0,96.0,81.0,97.0,79.0,88.0,60.0,74.0,87.0,89.0,96.0,86.0,66.0,98.0,90.0,74.0,87.0,80.0,83.0,87.0,81.0,98.0,114.0,85.0,84.0,92.0,98.0,73.0,106.0,87.0,99.0,76.0,92.0,83.0,89.0,57.0,67.0,106.0,77.0,72.0,91.0,82.0,103.0,99.0,89.0,86.0,81.0,81.0,85.0,93.0,81.0,86.0,96.0,77.0,84.0,89.0,74.0,8.0,73.0,82.0,80.0,100.0,94.0,73.0,106.0,70.0,74.0,94.0,64.0,90.0,119.0,103.0,107.0,86.0,76.0,105.0,85.0,89.0,92.0,88.0,73.0,94.0,71.0,80.0,83.0,65.0,105.0,80.0,86.0,82.0,90.0,95.0,71.0,103.0,91.0,94.0,106.0,110.0,65.0,74.0,74.0,99.0,60.0,93.0,70.0,67.0,78.0,86.0,91.0,75.0,83.0,108.0,98.0,91.0,92.0,74.0,107.0,75.0,88.0,64.0,74.0,69.0,95.0,80.0,70.0,89.0,83.0,78.0,81.0,107.0,81.0,73.0,91.0,78.0,78.0,78.0,72.0,82.0,73.0,89.0,111.0,76.0,88.0,100.0,97.0,88.0,100.0,89.0,74.0,63.0,83.0,90.0,127.0,90.0,103.0,60.0,53.0,71.0,66.0,52.0,73.0,76.0,70.0,68.0,71.0,81.0,78.0,50.0,56.0,67.0,86.0,97.0,75.0,65.0,90.0,53.0,61.0,78.0,75.0,64.0,64.0,67.0,67.0,61.0,95.0,74.0,68.0,67.0,77.0,69.0,75.0,72.0,83.0,76.0,54.0,69.0,100.0,85.0,69.0,60.0,68.0,61.0,75.0,72.0,88.0,105.0,68.0,64.0,65.0,71.0,67.0,64.0,54.0,64.0,73.0,69.0,64.0,58.0,73.0,68.0,70.0,71.0,76.0,50.0,74.0,64.0,69.0,62.0,61.0,63.0,74.0,53.0,72.0,85.0,69.0,90.0,86.0,94.0,66.0,64.0,70.0,78.0,67.0,54.0,72.0,64.0,86.0,71.0,62.0,67.0,92.0,78.0,62.0,75.0,56.0,74.0,76.0,70.0,70.0,70.0,41.0,85.0,66.0,61.0,77.0,64.0,67.0,74.0,67.0,66.0,52.0,53.0,74.0,83.0,75.0,83.0,69.0,77.0,68.0,77.0,76.0,84.0,64.0,70.0,69.0,68.0,55.0,72.0,72.0,60.0,77.0,70.0,82.0,83.0,86.0,70.0,65.0,69.0,85.0,75.0,75.0,88.0,72.0,66.0,65.0,67.0,66.0,70.0,56.0,74.0,72.0,62.0,81.0,62.0,68.0,58.0,66.0,69.0,67.0,71.0,66.0,69.0,73.0,66.0,66.0,67.0,65.0,55.0,64.0,72.0,69.0,61.0,59.0,68.0,71.0,68.0,63.0,68.0,62.0,60.0,40.0,70.0,61.0,70.0,63.0,58.0,70.0,77.0,68.0,78.0,103.0,65.0,71.0,54.0,59.0,91.0,62.0,66.0,63.0,56.0,63.0,52.0,59.0,62.0],\"type\":\"scatter3d\"},{\"hovertemplate\":\"Category=Suspect Blood Donor\\u003cbr\\u003eAge=%{x}\\u003cbr\\u003eCholesterol=%{y}\\u003cbr\\u003eCreatinine=%{z}\\u003cbr\\u003ePROT_scaled=%{marker.size}\\u003cextra\\u003e\\u003c\\u002fextra\\u003e\",\"legendgroup\":\"Suspect Blood Donor\",\"marker\":{\"color\":\"#EF553B\",\"size\":[69.00000000000003,15.0,0.0,167.5,11.000000000000014,15.0,41.50000000000002],\"sizemode\":\"area\",\"sizeref\":0.52125,\"symbol\":\"circle\"},\"mode\":\"markers\",\"name\":\"Suspect Blood Donor\",\"scene\":\"scene\",\"showlegend\":true,\"x\":[47,48,49,55,71,74,59],\"y\":[4.3,5.25,3.01,8.08,2.61,3.19,4.72],\"z\":[170.0,29.0,64.0,76.0,9.0,52.0,32.0],\"type\":\"scatter3d\"},{\"hovertemplate\":\"Category=Hepatitis\\u003cbr\\u003eAge=%{x}\\u003cbr\\u003eCholesterol=%{y}\\u003cbr\\u003eCreatinine=%{z}\\u003cbr\\u003ePROT_scaled=%{marker.size}\\u003cextra\\u003e\\u003c\\u002fextra\\u003e\",\"legendgroup\":\"Hepatitis\",\"marker\":{\"color\":\"#00cc96\",\"size\":[126.49999999999999,128.5,148.5,186.5,131.5,134.0,156.0,130.50000000000006,131.5,155.0,140.0,139.50000000000003,137.5,159.50000000000003,162.5,103.99999999999999,167.00000000000003,188.00000000000006,126.49999999999999,206.0],\"sizemode\":\"area\",\"sizeref\":0.52125,\"symbol\":\"circle\"},\"mode\":\"markers\",\"name\":\"Hepatitis\",\"scene\":\"scene\",\"showlegend\":true,\"x\":[23,25,27,32,32,34,35,36,38,41,44,46,50,51,56,58,33,41,50,61],\"y\":[3.2,4.28,3.2,6.28,5.48,5.37,4.14,5.73,4.89,9.67,4.07,4.65,7.04,5.23,3.09,6.15,5.72,5.3,4.67,4.62],\"z\":[79.3,66.9,55.2,81.2,45.4,82.3,69.2,68.6,81.8,57.7,81.5,66.4,75.3,76.2,97.7,147.3,58.8,60.8,56.6,61.9],\"type\":\"scatter3d\"},{\"hovertemplate\":\"Category=Fibrosis\\u003cbr\\u003eAge=%{x}\\u003cbr\\u003eCholesterol=%{y}\\u003cbr\\u003eCreatinine=%{z}\\u003cbr\\u003ePROT_scaled=%{marker.size}\\u003cextra\\u003e\\u003c\\u002fextra\\u003e\",\"legendgroup\":\"Fibrosis\",\"marker\":{\"color\":\"#ab63fa\",\"size\":[108.50000000000001,182.5,141.0,137.5,171.5,180.50000000000006,124.50000000000003,110.0,145.50000000000006,158.5,186.0,156.5],\"sizemode\":\"area\",\"sizeref\":0.52125,\"symbol\":\"circle\"},\"mode\":\"markers\",\"name\":\"Fibrosis\",\"scene\":\"scene\",\"showlegend\":true,\"x\":[29,40,46,48,54,57,59,64,36,38,57,68],\"y\":[5.42,4.2,4.01,4.22,5.85,4.64,4.45,4.52,4.81,4.31,6.19,4.89],\"z\":[55.2,70.9,60.5,76.7,91.0,70.9,65.0,70.0,65.3,60.5,71.4,80.9],\"type\":\"scatter3d\"},{\"hovertemplate\":\"Category=Cirrhosis\\u003cbr\\u003eAge=%{x}\\u003cbr\\u003eCholesterol=%{y}\\u003cbr\\u003eCreatinine=%{z}\\u003cbr\\u003ePROT_scaled=%{marker.size}\\u003cextra\\u003e\\u003c\\u002fextra\\u003e\",\"legendgroup\":\"Cirrhosis\",\"marker\":{\"color\":\"#FFA15A\",\"size\":[63.500000000000014,135.0,118.99999999999999,126.00000000000001,121.49999999999999,173.00000000000006,87.5,102.5,90.0,47.00000000000003,166.5,150.0,79.00000000000003,118.50000000000001,143.00000000000006,61.50000000000002,125.50000000000004,68.50000000000001,189.50000000000003,179.0,128.5,118.50000000000001,132.5,186.0],\"sizemode\":\"area\",\"sizeref\":0.52125,\"symbol\":\"circle\"},\"mode\":\"markers\",\"name\":\"Cirrhosis\",\"scene\":\"scene\",\"showlegend\":true,\"x\":[39,41,42,45,46,51,51,56,56,56,58,59,59,59,61,74,42,49,52,58,59,62,64,64],\"y\":[4.82,5.34,3.93,3.71,4.1,3.6,4.08,3.54,2.4,1.43,3.92,3.68,3.61,3.51,4.88,3.29,5.16,3.82,3.78,3.98,4.51,6.3,3.02,3.63],\"z\":[519.0,106.4,49.6,76.7,1079.1,58.3,75.9,66.9,62.7,79.3,66.4,118.2,71.7,60.5,72.3,51.0,89.1,485.9,158.2,56.0,136.1,55.7,63.0,66.7],\"type\":\"scatter3d\"}],                        {\"template\":{\"data\":{\"histogram2dcontour\":[{\"type\":\"histogram2dcontour\",\"colorbar\":{\"outlinewidth\":0,\"ticks\":\"\"},\"colorscale\":[[0.0,\"#0d0887\"],[0.1111111111111111,\"#46039f\"],[0.2222222222222222,\"#7201a8\"],[0.3333333333333333,\"#9c179e\"],[0.4444444444444444,\"#bd3786\"],[0.5555555555555556,\"#d8576b\"],[0.6666666666666666,\"#ed7953\"],[0.7777777777777778,\"#fb9f3a\"],[0.8888888888888888,\"#fdca26\"],[1.0,\"#f0f921\"]]}],\"choropleth\":[{\"type\":\"choropleth\",\"colorbar\":{\"outlinewidth\":0,\"ticks\":\"\"}}],\"histogram2d\":[{\"type\":\"histogram2d\",\"colorbar\":{\"outlinewidth\":0,\"ticks\":\"\"},\"colorscale\":[[0.0,\"#0d0887\"],[0.1111111111111111,\"#46039f\"],[0.2222222222222222,\"#7201a8\"],[0.3333333333333333,\"#9c179e\"],[0.4444444444444444,\"#bd3786\"],[0.5555555555555556,\"#d8576b\"],[0.6666666666666666,\"#ed7953\"],[0.7777777777777778,\"#fb9f3a\"],[0.8888888888888888,\"#fdca26\"],[1.0,\"#f0f921\"]]}],\"heatmap\":[{\"type\":\"heatmap\",\"colorbar\":{\"outlinewidth\":0,\"ticks\":\"\"},\"colorscale\":[[0.0,\"#0d0887\"],[0.1111111111111111,\"#46039f\"],[0.2222222222222222,\"#7201a8\"],[0.3333333333333333,\"#9c179e\"],[0.4444444444444444,\"#bd3786\"],[0.5555555555555556,\"#d8576b\"],[0.6666666666666666,\"#ed7953\"],[0.7777777777777778,\"#fb9f3a\"],[0.8888888888888888,\"#fdca26\"],[1.0,\"#f0f921\"]]}],\"heatmapgl\":[{\"type\":\"heatmapgl\",\"colorbar\":{\"outlinewidth\":0,\"ticks\":\"\"},\"colorscale\":[[0.0,\"#0d0887\"],[0.1111111111111111,\"#46039f\"],[0.2222222222222222,\"#7201a8\"],[0.3333333333333333,\"#9c179e\"],[0.4444444444444444,\"#bd3786\"],[0.5555555555555556,\"#d8576b\"],[0.6666666666666666,\"#ed7953\"],[0.7777777777777778,\"#fb9f3a\"],[0.8888888888888888,\"#fdca26\"],[1.0,\"#f0f921\"]]}],\"contourcarpet\":[{\"type\":\"contourcarpet\",\"colorbar\":{\"outlinewidth\":0,\"ticks\":\"\"}}],\"contour\":[{\"type\":\"contour\",\"colorbar\":{\"outlinewidth\":0,\"ticks\":\"\"},\"colorscale\":[[0.0,\"#0d0887\"],[0.1111111111111111,\"#46039f\"],[0.2222222222222222,\"#7201a8\"],[0.3333333333333333,\"#9c179e\"],[0.4444444444444444,\"#bd3786\"],[0.5555555555555556,\"#d8576b\"],[0.6666666666666666,\"#ed7953\"],[0.7777777777777778,\"#fb9f3a\"],[0.8888888888888888,\"#fdca26\"],[1.0,\"#f0f921\"]]}],\"surface\":[{\"type\":\"surface\",\"colorbar\":{\"outlinewidth\":0,\"ticks\":\"\"},\"colorscale\":[[0.0,\"#0d0887\"],[0.1111111111111111,\"#46039f\"],[0.2222222222222222,\"#7201a8\"],[0.3333333333333333,\"#9c179e\"],[0.4444444444444444,\"#bd3786\"],[0.5555555555555556,\"#d8576b\"],[0.6666666666666666,\"#ed7953\"],[0.7777777777777778,\"#fb9f3a\"],[0.8888888888888888,\"#fdca26\"],[1.0,\"#f0f921\"]]}],\"mesh3d\":[{\"type\":\"mesh3d\",\"colorbar\":{\"outlinewidth\":0,\"ticks\":\"\"}}],\"scatter\":[{\"fillpattern\":{\"fillmode\":\"overlay\",\"size\":10,\"solidity\":0.2},\"type\":\"scatter\"}],\"parcoords\":[{\"type\":\"parcoords\",\"line\":{\"colorbar\":{\"outlinewidth\":0,\"ticks\":\"\"}}}],\"scatterpolargl\":[{\"type\":\"scatterpolargl\",\"marker\":{\"colorbar\":{\"outlinewidth\":0,\"ticks\":\"\"}}}],\"bar\":[{\"error_x\":{\"color\":\"#2a3f5f\"},\"error_y\":{\"color\":\"#2a3f5f\"},\"marker\":{\"line\":{\"color\":\"#E5ECF6\",\"width\":0.5},\"pattern\":{\"fillmode\":\"overlay\",\"size\":10,\"solidity\":0.2}},\"type\":\"bar\"}],\"scattergeo\":[{\"type\":\"scattergeo\",\"marker\":{\"colorbar\":{\"outlinewidth\":0,\"ticks\":\"\"}}}],\"scatterpolar\":[{\"type\":\"scatterpolar\",\"marker\":{\"colorbar\":{\"outlinewidth\":0,\"ticks\":\"\"}}}],\"histogram\":[{\"marker\":{\"pattern\":{\"fillmode\":\"overlay\",\"size\":10,\"solidity\":0.2}},\"type\":\"histogram\"}],\"scattergl\":[{\"type\":\"scattergl\",\"marker\":{\"colorbar\":{\"outlinewidth\":0,\"ticks\":\"\"}}}],\"scatter3d\":[{\"type\":\"scatter3d\",\"line\":{\"colorbar\":{\"outlinewidth\":0,\"ticks\":\"\"}},\"marker\":{\"colorbar\":{\"outlinewidth\":0,\"ticks\":\"\"}}}],\"scattermapbox\":[{\"type\":\"scattermapbox\",\"marker\":{\"colorbar\":{\"outlinewidth\":0,\"ticks\":\"\"}}}],\"scatterternary\":[{\"type\":\"scatterternary\",\"marker\":{\"colorbar\":{\"outlinewidth\":0,\"ticks\":\"\"}}}],\"scattercarpet\":[{\"type\":\"scattercarpet\",\"marker\":{\"colorbar\":{\"outlinewidth\":0,\"ticks\":\"\"}}}],\"carpet\":[{\"aaxis\":{\"endlinecolor\":\"#2a3f5f\",\"gridcolor\":\"white\",\"linecolor\":\"white\",\"minorgridcolor\":\"white\",\"startlinecolor\":\"#2a3f5f\"},\"baxis\":{\"endlinecolor\":\"#2a3f5f\",\"gridcolor\":\"white\",\"linecolor\":\"white\",\"minorgridcolor\":\"white\",\"startlinecolor\":\"#2a3f5f\"},\"type\":\"carpet\"}],\"table\":[{\"cells\":{\"fill\":{\"color\":\"#EBF0F8\"},\"line\":{\"color\":\"white\"}},\"header\":{\"fill\":{\"color\":\"#C8D4E3\"},\"line\":{\"color\":\"white\"}},\"type\":\"table\"}],\"barpolar\":[{\"marker\":{\"line\":{\"color\":\"#E5ECF6\",\"width\":0.5},\"pattern\":{\"fillmode\":\"overlay\",\"size\":10,\"solidity\":0.2}},\"type\":\"barpolar\"}],\"pie\":[{\"automargin\":true,\"type\":\"pie\"}]},\"layout\":{\"autotypenumbers\":\"strict\",\"colorway\":[\"#636efa\",\"#EF553B\",\"#00cc96\",\"#ab63fa\",\"#FFA15A\",\"#19d3f3\",\"#FF6692\",\"#B6E880\",\"#FF97FF\",\"#FECB52\"],\"font\":{\"color\":\"#2a3f5f\"},\"hovermode\":\"closest\",\"hoverlabel\":{\"align\":\"left\"},\"paper_bgcolor\":\"white\",\"plot_bgcolor\":\"#E5ECF6\",\"polar\":{\"bgcolor\":\"#E5ECF6\",\"angularaxis\":{\"gridcolor\":\"white\",\"linecolor\":\"white\",\"ticks\":\"\"},\"radialaxis\":{\"gridcolor\":\"white\",\"linecolor\":\"white\",\"ticks\":\"\"}},\"ternary\":{\"bgcolor\":\"#E5ECF6\",\"aaxis\":{\"gridcolor\":\"white\",\"linecolor\":\"white\",\"ticks\":\"\"},\"baxis\":{\"gridcolor\":\"white\",\"linecolor\":\"white\",\"ticks\":\"\"},\"caxis\":{\"gridcolor\":\"white\",\"linecolor\":\"white\",\"ticks\":\"\"}},\"coloraxis\":{\"colorbar\":{\"outlinewidth\":0,\"ticks\":\"\"}},\"colorscale\":{\"sequential\":[[0.0,\"#0d0887\"],[0.1111111111111111,\"#46039f\"],[0.2222222222222222,\"#7201a8\"],[0.3333333333333333,\"#9c179e\"],[0.4444444444444444,\"#bd3786\"],[0.5555555555555556,\"#d8576b\"],[0.6666666666666666,\"#ed7953\"],[0.7777777777777778,\"#fb9f3a\"],[0.8888888888888888,\"#fdca26\"],[1.0,\"#f0f921\"]],\"sequentialminus\":[[0.0,\"#0d0887\"],[0.1111111111111111,\"#46039f\"],[0.2222222222222222,\"#7201a8\"],[0.3333333333333333,\"#9c179e\"],[0.4444444444444444,\"#bd3786\"],[0.5555555555555556,\"#d8576b\"],[0.6666666666666666,\"#ed7953\"],[0.7777777777777778,\"#fb9f3a\"],[0.8888888888888888,\"#fdca26\"],[1.0,\"#f0f921\"]],\"diverging\":[[0,\"#8e0152\"],[0.1,\"#c51b7d\"],[0.2,\"#de77ae\"],[0.3,\"#f1b6da\"],[0.4,\"#fde0ef\"],[0.5,\"#f7f7f7\"],[0.6,\"#e6f5d0\"],[0.7,\"#b8e186\"],[0.8,\"#7fbc41\"],[0.9,\"#4d9221\"],[1,\"#276419\"]]},\"xaxis\":{\"gridcolor\":\"white\",\"linecolor\":\"white\",\"ticks\":\"\",\"title\":{\"standoff\":15},\"zerolinecolor\":\"white\",\"automargin\":true,\"zerolinewidth\":2},\"yaxis\":{\"gridcolor\":\"white\",\"linecolor\":\"white\",\"ticks\":\"\",\"title\":{\"standoff\":15},\"zerolinecolor\":\"white\",\"automargin\":true,\"zerolinewidth\":2},\"scene\":{\"xaxis\":{\"backgroundcolor\":\"#E5ECF6\",\"gridcolor\":\"white\",\"linecolor\":\"white\",\"showbackground\":true,\"ticks\":\"\",\"zerolinecolor\":\"white\",\"gridwidth\":2},\"yaxis\":{\"backgroundcolor\":\"#E5ECF6\",\"gridcolor\":\"white\",\"linecolor\":\"white\",\"showbackground\":true,\"ticks\":\"\",\"zerolinecolor\":\"white\",\"gridwidth\":2},\"zaxis\":{\"backgroundcolor\":\"#E5ECF6\",\"gridcolor\":\"white\",\"linecolor\":\"white\",\"showbackground\":true,\"ticks\":\"\",\"zerolinecolor\":\"white\",\"gridwidth\":2}},\"shapedefaults\":{\"line\":{\"color\":\"#2a3f5f\"}},\"annotationdefaults\":{\"arrowcolor\":\"#2a3f5f\",\"arrowhead\":0,\"arrowwidth\":1},\"geo\":{\"bgcolor\":\"white\",\"landcolor\":\"#E5ECF6\",\"subunitcolor\":\"white\",\"showland\":true,\"showlakes\":true,\"lakecolor\":\"white\"},\"title\":{\"x\":0.05},\"mapbox\":{\"style\":\"light\"}}},\"scene\":{\"domain\":{\"x\":[0.0,1.0],\"y\":[0.0,1.0]},\"xaxis\":{\"title\":{\"text\":\"Age\"}},\"yaxis\":{\"title\":{\"text\":\"Cholesterol\"}},\"zaxis\":{\"title\":{\"text\":\"Creatinine\"}}},\"legend\":{\"title\":{\"text\":\"Category\"},\"tracegroupgap\":0,\"itemsizing\":\"constant\"},\"title\":{\"text\":\"Age vs Cholesterol vs Creatinine (Bubble = Protein Level)\"}},                        {\"responsive\": true}                    ).then(function(){\n",
       "                            \n",
       "var gd = document.getElementById('00ec0a15-9872-4693-a43a-fa9e54a4eb4f');\n",
       "var x = new MutationObserver(function (mutations, observer) {{\n",
       "        var display = window.getComputedStyle(gd).display;\n",
       "        if (!display || display === 'none') {{\n",
       "            console.log([gd, 'removed!']);\n",
       "            Plotly.purge(gd);\n",
       "            observer.disconnect();\n",
       "        }}\n",
       "}});\n",
       "\n",
       "// Listen for the removal of the full notebook cells\n",
       "var notebookContainer = gd.closest('#notebook-container');\n",
       "if (notebookContainer) {{\n",
       "    x.observe(notebookContainer, {childList: true});\n",
       "}}\n",
       "\n",
       "// Listen for the clearing of the current output cell\n",
       "var outputEl = gd.closest('.output');\n",
       "if (outputEl) {{\n",
       "    x.observe(outputEl, {childList: true});\n",
       "}}\n",
       "\n",
       "                        })                };                });            </script>        </div>"
      ]
     },
     "metadata": {},
     "output_type": "display_data"
    }
   ],
   "source": [
    "\n",
    "df['PROT_scaled'] = (df['PROT'] - df['PROT'].min()) * 5  # Amplify size variation\n",
    "fig = px.scatter_3d(\n",
    "    df,\n",
    "    x='Age', y='CHOL', z='CREA',\n",
    "    size='PROT_scaled',\n",
    "    color='Category',\n",
    "    title='Age vs Cholesterol vs Creatinine (Bubble = Protein Level)',\n",
    "    labels={'CHOL': 'Cholesterol', 'CREA': 'Creatinine', 'PROT': 'Protein'}\n",
    ")\n",
    "fig.show()\n",
    "\n"
   ]
  }
 ],
 "metadata": {
  "kernelspec": {
   "display_name": "Python [conda env:base] *",
   "language": "python",
   "name": "conda-base-py"
  },
  "language_info": {
   "codemirror_mode": {
    "name": "ipython",
    "version": 3
   },
   "file_extension": ".py",
   "mimetype": "text/x-python",
   "name": "python",
   "nbconvert_exporter": "python",
   "pygments_lexer": "ipython3",
   "version": "3.12.7"
  }
 },
 "nbformat": 4,
 "nbformat_minor": 5
}
